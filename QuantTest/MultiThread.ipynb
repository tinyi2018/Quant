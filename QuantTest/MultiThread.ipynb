{
 "cells": [
  {
   "cell_type": "code",
   "execution_count": 10,
   "id": "decb7331",
   "metadata": {},
   "outputs": [
    {
     "data": {
      "text/plain": [
       "1657716542.6579866"
      ]
     },
     "execution_count": 10,
     "metadata": {},
     "output_type": "execute_result"
    }
   ],
   "source": [
    "import threading\n",
    "import time\n",
    "\n",
    "time.time()\n",
    "time.time()\n",
    "time.time()"
   ]
  },
  {
   "cell_type": "code",
   "execution_count": 21,
   "id": "7ab9b6d3",
   "metadata": {},
   "outputs": [],
   "source": [
    "def Thread_start_1(arg):\n",
    "    aaa =0\n",
    "    while aaa<10:\n",
    "        aaa +=1\n",
    "        time.sleep(0.5)\n",
    "        print(arg + str(aaa))\n",
    "        "
   ]
  },
  {
   "cell_type": "code",
   "execution_count": 22,
   "id": "2b1c1ba9",
   "metadata": {},
   "outputs": [],
   "source": [
    "def Thread_start_2(arg):\n",
    "    aaa =0\n",
    "    while aaa <10:\n",
    "        aaa +=1\n",
    "        time.sleep(0.3)\n",
    "        print(arg + str(aaa))"
   ]
  },
  {
   "cell_type": "code",
   "execution_count": 23,
   "id": "2e1fb737",
   "metadata": {},
   "outputs": [
    {
     "name": "stdout",
     "output_type": "stream",
     "text": [
      "This is main function\n",
      "This is thread 2   1\n",
      "This is thread 1   1\n",
      "This is thread 2   2\n",
      "This is thread 2   3\n",
      "This is thread 1   2\n",
      "This is thread 2   4\n",
      "This is thread 1   3\n",
      "This is thread 2   5\n",
      "This is thread 2   6\n",
      "This is thread 1   4\n",
      "This is thread 2   7\n",
      "This is thread 2   8\n",
      "This is thread 1   5\n",
      "This is thread 2   9\n",
      "This is thread 1   6\n",
      "This is thread 2   10\n",
      "This is thread 1   7\n",
      "This is thread 1   8\n",
      "This is thread 1   9\n",
      "This is thread 1   10\n"
     ]
    }
   ],
   "source": [
    " t1 = threading.Thread(target=Thread_start_1, args=('This is thread 1   ',))\n",
    " t2 = threading.Thread(target=Thread_start_2, args=('This is thread 2   ',))\n",
    " t1.start()\n",
    " t2.start()\n",
    " \n",
    " print(\"This is main function\")"
   ]
  }
 ],
 "metadata": {
  "kernelspec": {
   "display_name": "Python [conda env:py39] *",
   "language": "python",
   "name": "conda-env-py39-py"
  },
  "language_info": {
   "codemirror_mode": {
    "name": "ipython",
    "version": 3
   },
   "file_extension": ".py",
   "mimetype": "text/x-python",
   "name": "python",
   "nbconvert_exporter": "python",
   "pygments_lexer": "ipython3",
   "version": "3.9.13"
  }
 },
 "nbformat": 4,
 "nbformat_minor": 5
}
