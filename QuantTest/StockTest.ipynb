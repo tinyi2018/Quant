{
 "cells": [
  {
   "cell_type": "markdown",
   "id": "1f7c6933",
   "metadata": {},
   "source": [
    "导入文件"
   ]
  },
  {
   "cell_type": "code",
   "execution_count": 1,
   "id": "927b9386",
   "metadata": {},
   "outputs": [],
   "source": [
    "import tushare as ts\n",
    "import numpy as np\n",
    "import pandas as pd\n",
    "import matplotlib.pyplot as plt\n",
    "import talib\n",
    " "
   ]
  },
  {
   "cell_type": "markdown",
   "id": "8eb4ee89",
   "metadata": {},
   "source": [
    "初始化tushare 接口"
   ]
  },
  {
   "cell_type": "code",
   "execution_count": 2,
   "id": "1fef8af4",
   "metadata": {},
   "outputs": [],
   "source": [
    "pro = ts.pro_api('af5f423bb57f376e71c2903058362f8e3e053fe30f486463f9bdac8e')"
   ]
  },
  {
   "cell_type": "markdown",
   "id": "734eb42a",
   "metadata": {},
   "source": [
    "获取日线数据"
   ]
  },
  {
   "cell_type": "code",
   "execution_count": 3,
   "id": "3f84e3c5",
   "metadata": {},
   "outputs": [],
   "source": [
    "#ts_list = '''000001.SZ,600000.SH,002920.SZ,600089.SH, 600096.SH, 002956.SZ, 600872.SH, 601700.SH,\n",
    "#        601789.SH, 000049.SZ, 002222.SZ, 300815.SZ, 600653.SH'''\n",
    "#ts_list = '''000001.SZ,600000.SH,002920.SZ,600089.SH, 600096.SH, 002956.SZ, 600872.SH, 601700.SH'''\n",
    "ts_list = '601700.SH'\n",
    "df = pro.daily(ts_code=ts_list, start_date='20220616', end_date='20220707')"
   ]
  },
  {
   "cell_type": "code",
   "execution_count": 4,
   "id": "82086acc",
   "metadata": {},
   "outputs": [
    {
     "data": {
      "text/html": [
       "<div>\n",
       "<style scoped>\n",
       "    .dataframe tbody tr th:only-of-type {\n",
       "        vertical-align: middle;\n",
       "    }\n",
       "\n",
       "    .dataframe tbody tr th {\n",
       "        vertical-align: top;\n",
       "    }\n",
       "\n",
       "    .dataframe thead th {\n",
       "        text-align: right;\n",
       "    }\n",
       "</style>\n",
       "<table border=\"1\" class=\"dataframe\">\n",
       "  <thead>\n",
       "    <tr style=\"text-align: right;\">\n",
       "      <th></th>\n",
       "      <th>ts_code</th>\n",
       "      <th>trade_date</th>\n",
       "      <th>open</th>\n",
       "      <th>high</th>\n",
       "      <th>low</th>\n",
       "      <th>close</th>\n",
       "      <th>pre_close</th>\n",
       "      <th>change</th>\n",
       "      <th>pct_chg</th>\n",
       "      <th>vol</th>\n",
       "      <th>amount</th>\n",
       "    </tr>\n",
       "  </thead>\n",
       "  <tbody>\n",
       "    <tr>\n",
       "      <th>0</th>\n",
       "      <td>601700.SH</td>\n",
       "      <td>20220707</td>\n",
       "      <td>5.07</td>\n",
       "      <td>5.33</td>\n",
       "      <td>5.01</td>\n",
       "      <td>5.32</td>\n",
       "      <td>5.10</td>\n",
       "      <td>0.22</td>\n",
       "      <td>4.3137</td>\n",
       "      <td>393632.76</td>\n",
       "      <td>205837.733</td>\n",
       "    </tr>\n",
       "    <tr>\n",
       "      <th>1</th>\n",
       "      <td>601700.SH</td>\n",
       "      <td>20220706</td>\n",
       "      <td>5.19</td>\n",
       "      <td>5.22</td>\n",
       "      <td>5.05</td>\n",
       "      <td>5.10</td>\n",
       "      <td>5.22</td>\n",
       "      <td>-0.12</td>\n",
       "      <td>-2.2989</td>\n",
       "      <td>200803.23</td>\n",
       "      <td>102848.803</td>\n",
       "    </tr>\n",
       "    <tr>\n",
       "      <th>2</th>\n",
       "      <td>601700.SH</td>\n",
       "      <td>20220705</td>\n",
       "      <td>5.30</td>\n",
       "      <td>5.31</td>\n",
       "      <td>5.13</td>\n",
       "      <td>5.22</td>\n",
       "      <td>5.30</td>\n",
       "      <td>-0.08</td>\n",
       "      <td>-1.5094</td>\n",
       "      <td>254464.94</td>\n",
       "      <td>132663.204</td>\n",
       "    </tr>\n",
       "    <tr>\n",
       "      <th>3</th>\n",
       "      <td>601700.SH</td>\n",
       "      <td>20220704</td>\n",
       "      <td>5.17</td>\n",
       "      <td>5.30</td>\n",
       "      <td>5.10</td>\n",
       "      <td>5.30</td>\n",
       "      <td>5.12</td>\n",
       "      <td>0.18</td>\n",
       "      <td>3.5156</td>\n",
       "      <td>316294.48</td>\n",
       "      <td>165904.231</td>\n",
       "    </tr>\n",
       "    <tr>\n",
       "      <th>4</th>\n",
       "      <td>601700.SH</td>\n",
       "      <td>20220701</td>\n",
       "      <td>5.12</td>\n",
       "      <td>5.21</td>\n",
       "      <td>5.07</td>\n",
       "      <td>5.12</td>\n",
       "      <td>5.11</td>\n",
       "      <td>0.01</td>\n",
       "      <td>0.1957</td>\n",
       "      <td>180520.95</td>\n",
       "      <td>92613.094</td>\n",
       "    </tr>\n",
       "    <tr>\n",
       "      <th>5</th>\n",
       "      <td>601700.SH</td>\n",
       "      <td>20220630</td>\n",
       "      <td>5.18</td>\n",
       "      <td>5.22</td>\n",
       "      <td>5.09</td>\n",
       "      <td>5.11</td>\n",
       "      <td>5.16</td>\n",
       "      <td>-0.05</td>\n",
       "      <td>-0.9690</td>\n",
       "      <td>244848.69</td>\n",
       "      <td>125906.529</td>\n",
       "    </tr>\n",
       "    <tr>\n",
       "      <th>6</th>\n",
       "      <td>601700.SH</td>\n",
       "      <td>20220629</td>\n",
       "      <td>5.42</td>\n",
       "      <td>5.43</td>\n",
       "      <td>5.15</td>\n",
       "      <td>5.16</td>\n",
       "      <td>5.50</td>\n",
       "      <td>-0.34</td>\n",
       "      <td>-6.1818</td>\n",
       "      <td>460206.00</td>\n",
       "      <td>243186.707</td>\n",
       "    </tr>\n",
       "    <tr>\n",
       "      <th>7</th>\n",
       "      <td>601700.SH</td>\n",
       "      <td>20220628</td>\n",
       "      <td>5.40</td>\n",
       "      <td>5.60</td>\n",
       "      <td>5.35</td>\n",
       "      <td>5.50</td>\n",
       "      <td>5.47</td>\n",
       "      <td>0.03</td>\n",
       "      <td>0.5484</td>\n",
       "      <td>539597.29</td>\n",
       "      <td>295237.147</td>\n",
       "    </tr>\n",
       "    <tr>\n",
       "      <th>8</th>\n",
       "      <td>601700.SH</td>\n",
       "      <td>20220627</td>\n",
       "      <td>5.28</td>\n",
       "      <td>5.55</td>\n",
       "      <td>5.16</td>\n",
       "      <td>5.47</td>\n",
       "      <td>5.28</td>\n",
       "      <td>0.19</td>\n",
       "      <td>3.5985</td>\n",
       "      <td>654647.93</td>\n",
       "      <td>349698.101</td>\n",
       "    </tr>\n",
       "    <tr>\n",
       "      <th>9</th>\n",
       "      <td>601700.SH</td>\n",
       "      <td>20220624</td>\n",
       "      <td>5.20</td>\n",
       "      <td>5.43</td>\n",
       "      <td>5.17</td>\n",
       "      <td>5.28</td>\n",
       "      <td>5.24</td>\n",
       "      <td>0.04</td>\n",
       "      <td>0.7634</td>\n",
       "      <td>497270.84</td>\n",
       "      <td>263805.481</td>\n",
       "    </tr>\n",
       "    <tr>\n",
       "      <th>10</th>\n",
       "      <td>601700.SH</td>\n",
       "      <td>20220623</td>\n",
       "      <td>5.17</td>\n",
       "      <td>5.26</td>\n",
       "      <td>5.04</td>\n",
       "      <td>5.24</td>\n",
       "      <td>5.23</td>\n",
       "      <td>0.01</td>\n",
       "      <td>0.1912</td>\n",
       "      <td>461050.56</td>\n",
       "      <td>237437.872</td>\n",
       "    </tr>\n",
       "    <tr>\n",
       "      <th>11</th>\n",
       "      <td>601700.SH</td>\n",
       "      <td>20220622</td>\n",
       "      <td>5.09</td>\n",
       "      <td>5.44</td>\n",
       "      <td>5.08</td>\n",
       "      <td>5.23</td>\n",
       "      <td>5.13</td>\n",
       "      <td>0.10</td>\n",
       "      <td>1.9493</td>\n",
       "      <td>668701.00</td>\n",
       "      <td>350447.877</td>\n",
       "    </tr>\n",
       "    <tr>\n",
       "      <th>12</th>\n",
       "      <td>601700.SH</td>\n",
       "      <td>20220621</td>\n",
       "      <td>5.19</td>\n",
       "      <td>5.23</td>\n",
       "      <td>5.05</td>\n",
       "      <td>5.13</td>\n",
       "      <td>5.25</td>\n",
       "      <td>-0.12</td>\n",
       "      <td>-2.2857</td>\n",
       "      <td>525437.12</td>\n",
       "      <td>268167.663</td>\n",
       "    </tr>\n",
       "    <tr>\n",
       "      <th>13</th>\n",
       "      <td>601700.SH</td>\n",
       "      <td>20220620</td>\n",
       "      <td>5.33</td>\n",
       "      <td>5.67</td>\n",
       "      <td>5.13</td>\n",
       "      <td>5.25</td>\n",
       "      <td>5.21</td>\n",
       "      <td>0.04</td>\n",
       "      <td>0.7678</td>\n",
       "      <td>1185841.18</td>\n",
       "      <td>630274.650</td>\n",
       "    </tr>\n",
       "    <tr>\n",
       "      <th>14</th>\n",
       "      <td>601700.SH</td>\n",
       "      <td>20220617</td>\n",
       "      <td>4.73</td>\n",
       "      <td>5.21</td>\n",
       "      <td>4.68</td>\n",
       "      <td>5.21</td>\n",
       "      <td>4.74</td>\n",
       "      <td>0.47</td>\n",
       "      <td>9.9156</td>\n",
       "      <td>279569.44</td>\n",
       "      <td>143043.233</td>\n",
       "    </tr>\n",
       "    <tr>\n",
       "      <th>15</th>\n",
       "      <td>601700.SH</td>\n",
       "      <td>20220616</td>\n",
       "      <td>4.70</td>\n",
       "      <td>4.85</td>\n",
       "      <td>4.69</td>\n",
       "      <td>4.74</td>\n",
       "      <td>4.70</td>\n",
       "      <td>0.04</td>\n",
       "      <td>0.8511</td>\n",
       "      <td>205974.25</td>\n",
       "      <td>98200.067</td>\n",
       "    </tr>\n",
       "  </tbody>\n",
       "</table>\n",
       "</div>"
      ],
      "text/plain": [
       "      ts_code trade_date  open  high   low  close  pre_close  change  pct_chg  \\\n",
       "0   601700.SH   20220707  5.07  5.33  5.01   5.32       5.10    0.22   4.3137   \n",
       "1   601700.SH   20220706  5.19  5.22  5.05   5.10       5.22   -0.12  -2.2989   \n",
       "2   601700.SH   20220705  5.30  5.31  5.13   5.22       5.30   -0.08  -1.5094   \n",
       "3   601700.SH   20220704  5.17  5.30  5.10   5.30       5.12    0.18   3.5156   \n",
       "4   601700.SH   20220701  5.12  5.21  5.07   5.12       5.11    0.01   0.1957   \n",
       "5   601700.SH   20220630  5.18  5.22  5.09   5.11       5.16   -0.05  -0.9690   \n",
       "6   601700.SH   20220629  5.42  5.43  5.15   5.16       5.50   -0.34  -6.1818   \n",
       "7   601700.SH   20220628  5.40  5.60  5.35   5.50       5.47    0.03   0.5484   \n",
       "8   601700.SH   20220627  5.28  5.55  5.16   5.47       5.28    0.19   3.5985   \n",
       "9   601700.SH   20220624  5.20  5.43  5.17   5.28       5.24    0.04   0.7634   \n",
       "10  601700.SH   20220623  5.17  5.26  5.04   5.24       5.23    0.01   0.1912   \n",
       "11  601700.SH   20220622  5.09  5.44  5.08   5.23       5.13    0.10   1.9493   \n",
       "12  601700.SH   20220621  5.19  5.23  5.05   5.13       5.25   -0.12  -2.2857   \n",
       "13  601700.SH   20220620  5.33  5.67  5.13   5.25       5.21    0.04   0.7678   \n",
       "14  601700.SH   20220617  4.73  5.21  4.68   5.21       4.74    0.47   9.9156   \n",
       "15  601700.SH   20220616  4.70  4.85  4.69   4.74       4.70    0.04   0.8511   \n",
       "\n",
       "           vol      amount  \n",
       "0    393632.76  205837.733  \n",
       "1    200803.23  102848.803  \n",
       "2    254464.94  132663.204  \n",
       "3    316294.48  165904.231  \n",
       "4    180520.95   92613.094  \n",
       "5    244848.69  125906.529  \n",
       "6    460206.00  243186.707  \n",
       "7    539597.29  295237.147  \n",
       "8    654647.93  349698.101  \n",
       "9    497270.84  263805.481  \n",
       "10   461050.56  237437.872  \n",
       "11   668701.00  350447.877  \n",
       "12   525437.12  268167.663  \n",
       "13  1185841.18  630274.650  \n",
       "14   279569.44  143043.233  \n",
       "15   205974.25   98200.067  "
      ]
     },
     "execution_count": 4,
     "metadata": {},
     "output_type": "execute_result"
    }
   ],
   "source": [
    "df"
   ]
  },
  {
   "cell_type": "markdown",
   "id": "af7513e1",
   "metadata": {},
   "source": [
    "获取行数据，使用 .loc[index]  .loc[index, column] 使用行索引和列索引名称获取行数据 和具体的数据"
   ]
  },
  {
   "cell_type": "code",
   "execution_count": 17,
   "id": "4b1aa7ac",
   "metadata": {},
   "outputs": [
    {
     "data": {
      "text/plain": [
       "5.195"
      ]
     },
     "execution_count": 17,
     "metadata": {},
     "output_type": "execute_result"
    }
   ],
   "source": [
    "df.loc[0:5,'close'].mean()"
   ]
  },
  {
   "cell_type": "code",
   "execution_count": 6,
   "id": "8d4594b8",
   "metadata": {},
   "outputs": [
    {
     "data": {
      "text/plain": [
       "5.31"
      ]
     },
     "execution_count": 6,
     "metadata": {},
     "output_type": "execute_result"
    }
   ],
   "source": [
    "df.loc[2,'high']"
   ]
  },
  {
   "cell_type": "markdown",
   "id": "ed2da9ce",
   "metadata": {},
   "source": [
    "使用.iloc[num] num 为行数， 可以获取行数据， iloc[num,num] 直接使用数字定位需要获取的数据"
   ]
  },
  {
   "cell_type": "code",
   "execution_count": 7,
   "id": "174ba481",
   "metadata": {},
   "outputs": [
    {
     "data": {
      "text/plain": [
       "ts_code        601700.SH\n",
       "trade_date      20220705\n",
       "open                 5.3\n",
       "high                5.31\n",
       "low                 5.13\n",
       "close               5.22\n",
       "pre_close            5.3\n",
       "change             -0.08\n",
       "pct_chg          -1.5094\n",
       "vol            254464.94\n",
       "amount        132663.204\n",
       "Name: 2, dtype: object"
      ]
     },
     "execution_count": 7,
     "metadata": {},
     "output_type": "execute_result"
    }
   ],
   "source": [
    "df.iloc[2]"
   ]
  },
  {
   "cell_type": "code",
   "execution_count": 8,
   "id": "ab2d6882",
   "metadata": {},
   "outputs": [
    {
     "data": {
      "text/plain": [
       "5.31"
      ]
     },
     "execution_count": 8,
     "metadata": {},
     "output_type": "execute_result"
    }
   ],
   "source": [
    "df.iloc[2,3]"
   ]
  },
  {
   "cell_type": "code",
   "execution_count": 9,
   "id": "947cc07a",
   "metadata": {},
   "outputs": [
    {
     "data": {
      "text/plain": [
       "array([['601700.SH', '20220707', 5.07, 5.33, 5.01, 5.32, 5.1, 0.22,\n",
       "        4.3137, 393632.76, 205837.733],\n",
       "       ['601700.SH', '20220706', 5.19, 5.22, 5.05, 5.1, 5.22, -0.12,\n",
       "        -2.2989, 200803.23, 102848.803],\n",
       "       ['601700.SH', '20220705', 5.3, 5.31, 5.13, 5.22, 5.3, -0.08,\n",
       "        -1.5094, 254464.94, 132663.204],\n",
       "       ['601700.SH', '20220704', 5.17, 5.3, 5.1, 5.3, 5.12, 0.18, 3.5156,\n",
       "        316294.48, 165904.231],\n",
       "       ['601700.SH', '20220701', 5.12, 5.21, 5.07, 5.12, 5.11, 0.01,\n",
       "        0.1957, 180520.95, 92613.094],\n",
       "       ['601700.SH', '20220630', 5.18, 5.22, 5.09, 5.11, 5.16, -0.05,\n",
       "        -0.969, 244848.69, 125906.529],\n",
       "       ['601700.SH', '20220629', 5.42, 5.43, 5.15, 5.16, 5.5, -0.34,\n",
       "        -6.1818, 460206.0, 243186.707],\n",
       "       ['601700.SH', '20220628', 5.4, 5.6, 5.35, 5.5, 5.47, 0.03, 0.5484,\n",
       "        539597.29, 295237.147],\n",
       "       ['601700.SH', '20220627', 5.28, 5.55, 5.16, 5.47, 5.28, 0.19,\n",
       "        3.5985, 654647.93, 349698.101],\n",
       "       ['601700.SH', '20220624', 5.2, 5.43, 5.17, 5.28, 5.24, 0.04,\n",
       "        0.7634, 497270.84, 263805.481],\n",
       "       ['601700.SH', '20220623', 5.17, 5.26, 5.04, 5.24, 5.23, 0.01,\n",
       "        0.1912, 461050.56, 237437.872],\n",
       "       ['601700.SH', '20220622', 5.09, 5.44, 5.08, 5.23, 5.13, 0.1,\n",
       "        1.9493, 668701.0, 350447.877],\n",
       "       ['601700.SH', '20220621', 5.19, 5.23, 5.05, 5.13, 5.25, -0.12,\n",
       "        -2.2857, 525437.12, 268167.663],\n",
       "       ['601700.SH', '20220620', 5.33, 5.67, 5.13, 5.25, 5.21, 0.04,\n",
       "        0.7678, 1185841.18, 630274.65],\n",
       "       ['601700.SH', '20220617', 4.73, 5.21, 4.68, 5.21, 4.74, 0.47,\n",
       "        9.9156, 279569.44, 143043.233],\n",
       "       ['601700.SH', '20220616', 4.7, 4.85, 4.69, 4.74, 4.7, 0.04,\n",
       "        0.8511, 205974.25, 98200.067]], dtype=object)"
      ]
     },
     "execution_count": 9,
     "metadata": {},
     "output_type": "execute_result"
    }
   ],
   "source": [
    "df.values"
   ]
  },
  {
   "cell_type": "code",
   "execution_count": 10,
   "id": "d3c84802",
   "metadata": {},
   "outputs": [
    {
     "data": {
      "text/plain": [
       "numpy.ndarray"
      ]
     },
     "execution_count": 10,
     "metadata": {},
     "output_type": "execute_result"
    }
   ],
   "source": [
    "type(df.values)"
   ]
  },
  {
   "cell_type": "code",
   "execution_count": 11,
   "id": "f307e479",
   "metadata": {},
   "outputs": [
    {
     "data": {
      "text/plain": [
       "pandas.core.frame.DataFrame"
      ]
     },
     "execution_count": 11,
     "metadata": {},
     "output_type": "execute_result"
    }
   ],
   "source": [
    "type(df)"
   ]
  },
  {
   "cell_type": "code",
   "execution_count": 12,
   "id": "5e98f3cb",
   "metadata": {},
   "outputs": [
    {
     "data": {
      "text/plain": [
       "(16, 11)"
      ]
     },
     "execution_count": 12,
     "metadata": {},
     "output_type": "execute_result"
    }
   ],
   "source": [
    "df.shape"
   ]
  },
  {
   "cell_type": "code",
   "execution_count": 13,
   "id": "f9385f5d",
   "metadata": {
    "scrolled": true
   },
   "outputs": [
    {
     "data": {
      "text/plain": [
       "Index(['ts_code', 'trade_date', 'open', 'high', 'low', 'close', 'pre_close',\n",
       "       'change', 'pct_chg', 'vol', 'amount'],\n",
       "      dtype='object')"
      ]
     },
     "execution_count": 13,
     "metadata": {},
     "output_type": "execute_result"
    }
   ],
   "source": [
    "df.columns"
   ]
  },
  {
   "cell_type": "code",
   "execution_count": 14,
   "id": "ea5b5db6",
   "metadata": {},
   "outputs": [
    {
     "data": {
      "text/plain": [
       "RangeIndex(start=0, stop=16, step=1)"
      ]
     },
     "execution_count": 14,
     "metadata": {},
     "output_type": "execute_result"
    }
   ],
   "source": [
    "df.index"
   ]
  },
  {
   "cell_type": "code",
   "execution_count": 15,
   "id": "478b5eb1",
   "metadata": {},
   "outputs": [
    {
     "data": {
      "text/html": [
       "<div>\n",
       "<style scoped>\n",
       "    .dataframe tbody tr th:only-of-type {\n",
       "        vertical-align: middle;\n",
       "    }\n",
       "\n",
       "    .dataframe tbody tr th {\n",
       "        vertical-align: top;\n",
       "    }\n",
       "\n",
       "    .dataframe thead th {\n",
       "        text-align: right;\n",
       "    }\n",
       "</style>\n",
       "<table border=\"1\" class=\"dataframe\">\n",
       "  <thead>\n",
       "    <tr style=\"text-align: right;\">\n",
       "      <th></th>\n",
       "      <th>open</th>\n",
       "      <th>high</th>\n",
       "      <th>low</th>\n",
       "      <th>close</th>\n",
       "      <th>pre_close</th>\n",
       "      <th>change</th>\n",
       "      <th>pct_chg</th>\n",
       "      <th>vol</th>\n",
       "      <th>amount</th>\n",
       "    </tr>\n",
       "  </thead>\n",
       "  <tbody>\n",
       "    <tr>\n",
       "      <th>count</th>\n",
       "      <td>16.000000</td>\n",
       "      <td>16.000000</td>\n",
       "      <td>16.000000</td>\n",
       "      <td>16.000000</td>\n",
       "      <td>16.000000</td>\n",
       "      <td>16.000000</td>\n",
       "      <td>16.000000</td>\n",
       "      <td>1.600000e+01</td>\n",
       "      <td>16.00000</td>\n",
       "    </tr>\n",
       "    <tr>\n",
       "      <th>mean</th>\n",
       "      <td>5.158750</td>\n",
       "      <td>5.328750</td>\n",
       "      <td>5.059375</td>\n",
       "      <td>5.211250</td>\n",
       "      <td>5.172500</td>\n",
       "      <td>0.038750</td>\n",
       "      <td>0.835344</td>\n",
       "      <td>4.418038e+05</td>\n",
       "      <td>231579.52450</td>\n",
       "    </tr>\n",
       "    <tr>\n",
       "      <th>std</th>\n",
       "      <td>0.200528</td>\n",
       "      <td>0.194692</td>\n",
       "      <td>0.165629</td>\n",
       "      <td>0.171226</td>\n",
       "      <td>0.210602</td>\n",
       "      <td>0.179439</td>\n",
       "      <td>3.550439</td>\n",
       "      <td>2.544230e+05</td>\n",
       "      <td>136888.55733</td>\n",
       "    </tr>\n",
       "    <tr>\n",
       "      <th>min</th>\n",
       "      <td>4.700000</td>\n",
       "      <td>4.850000</td>\n",
       "      <td>4.680000</td>\n",
       "      <td>4.740000</td>\n",
       "      <td>4.700000</td>\n",
       "      <td>-0.340000</td>\n",
       "      <td>-6.181800</td>\n",
       "      <td>1.805210e+05</td>\n",
       "      <td>92613.09400</td>\n",
       "    </tr>\n",
       "    <tr>\n",
       "      <th>25%</th>\n",
       "      <td>5.112500</td>\n",
       "      <td>5.220000</td>\n",
       "      <td>5.047500</td>\n",
       "      <td>5.127500</td>\n",
       "      <td>5.117500</td>\n",
       "      <td>-0.057500</td>\n",
       "      <td>-1.104100</td>\n",
       "      <td>2.520609e+05</td>\n",
       "      <td>130974.03525</td>\n",
       "    </tr>\n",
       "    <tr>\n",
       "      <th>50%</th>\n",
       "      <td>5.185000</td>\n",
       "      <td>5.305000</td>\n",
       "      <td>5.085000</td>\n",
       "      <td>5.225000</td>\n",
       "      <td>5.215000</td>\n",
       "      <td>0.035000</td>\n",
       "      <td>0.655900</td>\n",
       "      <td>4.269194e+05</td>\n",
       "      <td>221637.80250</td>\n",
       "    </tr>\n",
       "    <tr>\n",
       "      <th>75%</th>\n",
       "      <td>5.285000</td>\n",
       "      <td>5.432500</td>\n",
       "      <td>5.135000</td>\n",
       "      <td>5.285000</td>\n",
       "      <td>5.257500</td>\n",
       "      <td>0.120000</td>\n",
       "      <td>2.340875</td>\n",
       "      <td>5.289772e+05</td>\n",
       "      <td>274935.03400</td>\n",
       "    </tr>\n",
       "    <tr>\n",
       "      <th>max</th>\n",
       "      <td>5.420000</td>\n",
       "      <td>5.670000</td>\n",
       "      <td>5.350000</td>\n",
       "      <td>5.500000</td>\n",
       "      <td>5.500000</td>\n",
       "      <td>0.470000</td>\n",
       "      <td>9.915600</td>\n",
       "      <td>1.185841e+06</td>\n",
       "      <td>630274.65000</td>\n",
       "    </tr>\n",
       "  </tbody>\n",
       "</table>\n",
       "</div>"
      ],
      "text/plain": [
       "            open       high        low      close  pre_close     change  \\\n",
       "count  16.000000  16.000000  16.000000  16.000000  16.000000  16.000000   \n",
       "mean    5.158750   5.328750   5.059375   5.211250   5.172500   0.038750   \n",
       "std     0.200528   0.194692   0.165629   0.171226   0.210602   0.179439   \n",
       "min     4.700000   4.850000   4.680000   4.740000   4.700000  -0.340000   \n",
       "25%     5.112500   5.220000   5.047500   5.127500   5.117500  -0.057500   \n",
       "50%     5.185000   5.305000   5.085000   5.225000   5.215000   0.035000   \n",
       "75%     5.285000   5.432500   5.135000   5.285000   5.257500   0.120000   \n",
       "max     5.420000   5.670000   5.350000   5.500000   5.500000   0.470000   \n",
       "\n",
       "         pct_chg           vol        amount  \n",
       "count  16.000000  1.600000e+01      16.00000  \n",
       "mean    0.835344  4.418038e+05  231579.52450  \n",
       "std     3.550439  2.544230e+05  136888.55733  \n",
       "min    -6.181800  1.805210e+05   92613.09400  \n",
       "25%    -1.104100  2.520609e+05  130974.03525  \n",
       "50%     0.655900  4.269194e+05  221637.80250  \n",
       "75%     2.340875  5.289772e+05  274935.03400  \n",
       "max     9.915600  1.185841e+06  630274.65000  "
      ]
     },
     "execution_count": 15,
     "metadata": {},
     "output_type": "execute_result"
    }
   ],
   "source": [
    "df.describe()"
   ]
  },
  {
   "cell_type": "code",
   "execution_count": 16,
   "id": "f61c3e3d",
   "metadata": {},
   "outputs": [
    {
     "name": "stdout",
     "output_type": "stream",
     "text": [
      "<class 'pandas.core.frame.DataFrame'>\n",
      "RangeIndex: 16 entries, 0 to 15\n",
      "Data columns (total 11 columns):\n",
      " #   Column      Non-Null Count  Dtype  \n",
      "---  ------      --------------  -----  \n",
      " 0   ts_code     16 non-null     object \n",
      " 1   trade_date  16 non-null     object \n",
      " 2   open        16 non-null     float64\n",
      " 3   high        16 non-null     float64\n",
      " 4   low         16 non-null     float64\n",
      " 5   close       16 non-null     float64\n",
      " 6   pre_close   16 non-null     float64\n",
      " 7   change      16 non-null     float64\n",
      " 8   pct_chg     16 non-null     float64\n",
      " 9   vol         16 non-null     float64\n",
      " 10  amount      16 non-null     float64\n",
      "dtypes: float64(9), object(2)\n",
      "memory usage: 1.5+ KB\n"
     ]
    }
   ],
   "source": [
    "df.info()"
   ]
  },
  {
   "cell_type": "code",
   "execution_count": null,
   "id": "80a226e7",
   "metadata": {},
   "outputs": [],
   "source": []
  }
 ],
 "metadata": {
  "kernelspec": {
   "display_name": "Python 3 (ipykernel)",
   "language": "python",
   "name": "python3"
  },
  "language_info": {
   "codemirror_mode": {
    "name": "ipython",
    "version": 3
   },
   "file_extension": ".py",
   "mimetype": "text/x-python",
   "name": "python",
   "nbconvert_exporter": "python",
   "pygments_lexer": "ipython3",
   "version": "3.9.13"
  }
 },
 "nbformat": 4,
 "nbformat_minor": 5
}
