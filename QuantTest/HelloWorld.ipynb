{
 "cells": [
  {
   "cell_type": "code",
   "execution_count": 1,
   "id": "e661b7b9",
   "metadata": {},
   "outputs": [
    {
     "name": "stdout",
     "output_type": "stream",
     "text": [
      "Hello World\n",
      "887932\n"
     ]
    }
   ],
   "source": [
    "print (\"Hello World\")\n",
    "aa = 456+887476\n",
    "print (aa)"
   ]
  },
  {
   "cell_type": "code",
   "execution_count": 2,
   "id": "764c743e",
   "metadata": {},
   "outputs": [
    {
     "data": {
      "text/plain": [
       "True"
      ]
     },
     "execution_count": 2,
     "metadata": {},
     "output_type": "execute_result"
    }
   ],
   "source": [
    "import torch\n",
    "from torch import nn\n",
    "torch.device('cuda')\n",
    "torch.cuda.is_available()"
   ]
  },
  {
   "cell_type": "code",
   "execution_count": 3,
   "id": "799c491f",
   "metadata": {},
   "outputs": [
    {
     "data": {
      "text/plain": [
       "device(type='cuda', index=0)"
      ]
     },
     "execution_count": 3,
     "metadata": {},
     "output_type": "execute_result"
    }
   ],
   "source": [
    "X = torch.tensor([1,2,3], device= 'cuda')\n",
    "X.device"
   ]
  },
  {
   "cell_type": "code",
   "execution_count": 4,
   "id": "24ec9dff",
   "metadata": {},
   "outputs": [
    {
     "data": {
      "text/plain": [
       "device(type='cuda', index=0)"
      ]
     },
     "execution_count": 4,
     "metadata": {},
     "output_type": "execute_result"
    }
   ],
   "source": [
    "Y = torch.tensor([1,2,3],device= 'cuda')\n",
    "Y.device"
   ]
  },
  {
   "cell_type": "code",
   "execution_count": 5,
   "id": "0443e84a",
   "metadata": {},
   "outputs": [
    {
     "data": {
      "text/plain": [
       "tensor([2, 4, 6], device='cuda:0')"
      ]
     },
     "execution_count": 5,
     "metadata": {},
     "output_type": "execute_result"
    }
   ],
   "source": [
    "X + Y"
   ]
  },
  {
   "cell_type": "code",
   "execution_count": 6,
   "id": "5b19b0a7",
   "metadata": {},
   "outputs": [
    {
     "name": "stdout",
     "output_type": "stream",
     "text": [
      "True\n",
      "cuda:0\n",
      "NVIDIA GeForce RTX 3060\n",
      "tensor([[0.0177, 0.1821, 0.0922],\n",
      "        [0.1083, 0.9518, 0.4375],\n",
      "        [0.4284, 0.2680, 0.5701]], device='cuda:0')\n"
     ]
    }
   ],
   "source": [
    "import torch\n",
    "a = torch.cuda.is_available()\n",
    "print(a)\n",
    "ngpu= 1\n",
    "device = torch.device(\"cuda:0\" if (torch.cuda.is_available() and ngpu > 0) else \"cpu\")\n",
    "print(device)\n",
    "print(torch.cuda.get_device_name(0))\n",
    "print(torch.rand(3,3).cuda())\n"
   ]
  },
  {
   "cell_type": "code",
   "execution_count": null,
   "id": "5dc4ed15",
   "metadata": {},
   "outputs": [],
   "source": [
    "X = torch.rand(8000,10000)\n",
    "Y = torch.rand(10000,20000)"
   ]
  },
  {
   "cell_type": "code",
   "execution_count": 20,
   "id": "a7696243",
   "metadata": {},
   "outputs": [],
   "source": [
    "\n",
    "Z = torch.matmul(X,Y)\n"
   ]
  },
  {
   "cell_type": "code",
   "execution_count": null,
   "id": "fec2d433",
   "metadata": {},
   "outputs": [],
   "source": [
    "X1 = X.cuda()\n",
    "Y1 = Y.cuda()"
   ]
  },
  {
   "cell_type": "code",
   "execution_count": 24,
   "id": "2609a3d1",
   "metadata": {},
   "outputs": [],
   "source": [
    "\n",
    "Z1 = torch.matmul(X1,Y1)"
   ]
  }
 ],
 "metadata": {
  "kernelspec": {
   "display_name": "Python 3 (ipykernel)",
   "language": "python",
   "name": "python3"
  },
  "language_info": {
   "codemirror_mode": {
    "name": "ipython",
    "version": 3
   },
   "file_extension": ".py",
   "mimetype": "text/x-python",
   "name": "python",
   "nbconvert_exporter": "python",
   "pygments_lexer": "ipython3",
   "version": "3.8.16"
  }
 },
 "nbformat": 4,
 "nbformat_minor": 5
}
