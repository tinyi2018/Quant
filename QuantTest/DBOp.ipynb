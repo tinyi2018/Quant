{
 "cells": [
  {
   "cell_type": "code",
   "execution_count": 1,
   "id": "f97499f7",
   "metadata": {
    "scrolled": true
   },
   "outputs": [
    {
     "name": "stdout",
     "output_type": "stream",
     "text": [
      "数据库连接成功！\n"
     ]
    }
   ],
   "source": [
    "import pandas as pd\n",
    "import pymysql\n",
    "\n",
    "try:\n",
    "    db = pymysql.connect(host='localhost',\n",
    "                     user='root',\n",
    "                     password='Aa123456',\n",
    "                     database='dbtest',\n",
    "                     charset='utf8')\n",
    "    print(\"数据库连接成功！\")\n",
    "except pymysql.Error as e:\n",
    "    print(\"连接数据库错误：\"+str(e))\n",
    "    \n"
   ]
  },
  {
   "cell_type": "markdown",
   "id": "83104d0a",
   "metadata": {},
   "source": [
    "创建游标，获取版本信息"
   ]
  },
  {
   "cell_type": "code",
   "execution_count": 2,
   "id": "193ee2ee",
   "metadata": {},
   "outputs": [
    {
     "name": "stdout",
     "output_type": "stream",
     "text": [
      "('8.0.29',)\n"
     ]
    }
   ],
   "source": [
    "cur = db.cursor()\n",
    "sql = \"SELECT VERSION()\"\n",
    "cur.execute(sql)\n",
    "df = cur.fetchone()\n",
    "print(df)"
   ]
  },
  {
   "cell_type": "markdown",
   "id": "2bf9fa08",
   "metadata": {},
   "source": [
    "存在同名表格，如果没有，\n",
    "先检查是否存在同名表格，如果没有，创建一张表"
   ]
  },
  {
   "cell_type": "code",
   "execution_count": 3,
   "id": "a491183f",
   "metadata": {},
   "outputs": [
    {
     "data": {
      "text/plain": [
       "0"
      ]
     },
     "execution_count": 3,
     "metadata": {},
     "output_type": "execute_result"
    }
   ],
   "source": [
    "sql='DROP TABLE IF EXISTS Student'\n",
    "\n",
    "cur.execute(sql)\n",
    "df =cur.fetchone()\n",
    "\n",
    "sql = 'CREATE TABLE Student(Name CHAR(20) NOT NULL, Email CHAR(20), Age int)'\n",
    "cur.execute(sql)"
   ]
  },
  {
   "cell_type": "markdown",
   "id": "6f5a9fc3",
   "metadata": {},
   "source": [
    "向表中插入一条数据"
   ]
  },
  {
   "cell_type": "code",
   "execution_count": 4,
   "id": "8a3c323f",
   "metadata": {},
   "outputs": [
    {
     "name": "stdout",
     "output_type": "stream",
     "text": [
      "插入数据成功！\n"
     ]
    }
   ],
   "source": [
    "sql = \"INSERT INTO Student(Name, Email, Age)VALUE(%s,%s,%s)\"\n",
    "VALUE = ('Kity','Kityjdhfh@163.com',19)\n",
    "try:\n",
    "    cur.execute(sql,VALUE)\n",
    "    db.commit()\n",
    "    print(\"插入数据成功！\")\n",
    "except pymysql.Error as e:\n",
    "    print(\"数据插入失败：\"+str(e))\n"
   ]
  },
  {
   "cell_type": "markdown",
   "id": "d86182db",
   "metadata": {},
   "source": [
    "查询数据,使用 fetchone() "
   ]
  },
  {
   "cell_type": "code",
   "execution_count": 5,
   "id": "d0519c05",
   "metadata": {},
   "outputs": [
    {
     "name": "stdout",
     "output_type": "stream",
     "text": [
      "('Kity', 'Kityjdhfh@163.com', 19)\n"
     ]
    }
   ],
   "source": [
    "sql = 'SELECT * FROM Student'\n",
    "cur.execute(sql)\n",
    "result = cur.fetchone()\n",
    "print(result)"
   ]
  },
  {
   "cell_type": "code",
   "execution_count": 6,
   "id": "39f96c40",
   "metadata": {},
   "outputs": [
    {
     "name": "stdout",
     "output_type": "stream",
     "text": [
      "('Kity', 'Kityjdhfh@163.com', 19)\n"
     ]
    }
   ],
   "source": [
    "sql = 'SELECT * FROM Student'\n",
    "cur.execute(sql)\n",
    "result = cur.fetchone()\n",
    "print(result)"
   ]
  },
  {
   "cell_type": "code",
   "execution_count": 7,
   "id": "ca61e163",
   "metadata": {},
   "outputs": [
    {
     "name": "stdout",
     "output_type": "stream",
     "text": [
      "None\n"
     ]
    }
   ],
   "source": [
    "result = cur.fetchone()\n",
    "print(result)"
   ]
  },
  {
   "cell_type": "code",
   "execution_count": 8,
   "id": "5af0baa6",
   "metadata": {},
   "outputs": [
    {
     "name": "stdout",
     "output_type": "stream",
     "text": [
      "None\n"
     ]
    }
   ],
   "source": [
    "result = cur.fetchone()\n",
    "print(result)"
   ]
  },
  {
   "cell_type": "code",
   "execution_count": 9,
   "id": "6f2772fc",
   "metadata": {},
   "outputs": [
    {
     "name": "stdout",
     "output_type": "stream",
     "text": [
      "None\n"
     ]
    }
   ],
   "source": [
    "result = cur.fetchone()\n",
    "print(result)"
   ]
  },
  {
   "cell_type": "code",
   "execution_count": null,
   "id": "2328b092",
   "metadata": {},
   "outputs": [],
   "source": []
  },
  {
   "cell_type": "markdown",
   "id": "2e527e09",
   "metadata": {},
   "source": [
    "查询数据， 使用 fetchall()"
   ]
  },
  {
   "cell_type": "code",
   "execution_count": 10,
   "id": "8a687ead",
   "metadata": {},
   "outputs": [
    {
     "name": "stdout",
     "output_type": "stream",
     "text": [
      "(('Kity', 'Kityjdhfh@163.com', 19),)\n"
     ]
    }
   ],
   "source": [
    "sql = 'SELECT * FROM Student'\n",
    "cur.execute(sql)\n",
    "result = cur.fetchall()\n",
    "print(result)"
   ]
  },
  {
   "cell_type": "code",
   "execution_count": 11,
   "id": "f4700a1a",
   "metadata": {},
   "outputs": [
    {
     "name": "stdout",
     "output_type": "stream",
     "text": [
      "19\n"
     ]
    }
   ],
   "source": [
    "print(result[0][2])"
   ]
  },
  {
   "cell_type": "markdown",
   "id": "2cf05312",
   "metadata": {},
   "source": [
    "查找特定的信息"
   ]
  },
  {
   "cell_type": "code",
   "execution_count": 12,
   "id": "68f65dc7",
   "metadata": {},
   "outputs": [
    {
     "name": "stdout",
     "output_type": "stream",
     "text": [
      "()\n"
     ]
    }
   ],
   "source": [
    "sql ='SELECT Name,Age  FROM Student WHERE Age=%s'\n",
    "VALUE = 12\n",
    "cur.execute(sql, VALUE)\n",
    "result = cur.fetchall()\n",
    "print(result)"
   ]
  },
  {
   "cell_type": "markdown",
   "id": "19c98000",
   "metadata": {},
   "source": [
    "更改数据库里的数值"
   ]
  },
  {
   "cell_type": "code",
   "execution_count": 13,
   "id": "4194c88a",
   "metadata": {
    "scrolled": true
   },
   "outputs": [
    {
     "name": "stdout",
     "output_type": "stream",
     "text": [
      "()\n",
      "()\n"
     ]
    }
   ],
   "source": [
    "sql ='SELECT Name,Age  FROM Student WHERE Age=%s'\n",
    "VALUE = 12\n",
    "cur.execute(sql, VALUE)\n",
    "result = cur.fetchall()\n",
    "print(result)\n",
    "sql ='SELECT Name,Age  FROM Student WHERE Age=%s'\n",
    "VALUE = 12\n",
    "cur.execute(sql, VALUE)\n",
    "result = cur.fetchall()\n",
    "print(result)"
   ]
  },
  {
   "cell_type": "markdown",
   "id": "d1af347f",
   "metadata": {},
   "source": [
    "更改数据库里的数值"
   ]
  },
  {
   "cell_type": "code",
   "execution_count": 14,
   "id": "9b12d350",
   "metadata": {},
   "outputs": [
    {
     "name": "stdout",
     "output_type": "stream",
     "text": [
      "()\n"
     ]
    }
   ],
   "source": [
    "sql = 'UPDATE Student SET Age=%s WHERE Name=%s'\n",
    "VALUE = (15,'Tomy')\n",
    "cur.execute(sql, VALUE)\n",
    "db.commit()\n",
    "\n",
    "sql ='SELECT *  FROM Student WHERE Name=%s'\n",
    "VALUE = \"Tomy\"\n",
    "cur.execute(sql, VALUE)\n",
    "result = cur.fetchall()\n",
    "print(result)"
   ]
  },
  {
   "cell_type": "markdown",
   "id": "781060f7",
   "metadata": {},
   "source": [
    "删除数据"
   ]
  },
  {
   "cell_type": "code",
   "execution_count": 15,
   "id": "9276c974",
   "metadata": {},
   "outputs": [
    {
     "name": "stdout",
     "output_type": "stream",
     "text": [
      "(('Kity', 'Kityjdhfh@163.com', 19),)\n"
     ]
    }
   ],
   "source": [
    "sql = \" DELETE FROM Student WHERE Name=%s\"\n",
    "VALUE =(\"Tomy\")\n",
    "cur.execute(sql, VALUE)\n",
    "db.commit()\n",
    "\n",
    "sql = \"SELECT * FROM Student\"\n",
    "cur.execute(sql)\n",
    "result = cur.fetchall()\n",
    "print(result)"
   ]
  },
  {
   "cell_type": "code",
   "execution_count": null,
   "id": "33cf126e",
   "metadata": {},
   "outputs": [],
   "source": []
  }
 ],
 "metadata": {
  "kernelspec": {
   "display_name": "Python 3.9.13 ('pyt39')",
   "language": "python",
   "name": "python3"
  },
  "language_info": {
   "codemirror_mode": {
    "name": "ipython",
    "version": 3
   },
   "file_extension": ".py",
   "mimetype": "text/x-python",
   "name": "python",
   "nbconvert_exporter": "python",
   "pygments_lexer": "ipython3",
   "version": "3.9.13"
  },
  "vscode": {
   "interpreter": {
    "hash": "6105fc31425a4cbdce8b7ed17596dc7acec0859bd36ad0237459d0d19d27a956"
   }
  }
 },
 "nbformat": 4,
 "nbformat_minor": 5
}
