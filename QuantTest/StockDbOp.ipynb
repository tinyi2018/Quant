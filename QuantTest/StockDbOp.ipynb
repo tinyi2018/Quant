{
 "cells": [
  {
   "cell_type": "code",
   "execution_count": 1,
   "id": "12ad7d0f",
   "metadata": {},
   "outputs": [],
   "source": [
    "import pandas as pd\n",
    "import pymysql"
   ]
  },
  {
   "cell_type": "code",
   "execution_count": 2,
   "id": "22ea68a4",
   "metadata": {},
   "outputs": [],
   "source": [
    "def connectDb():\n",
    "    try:\n",
    "        db = pymysql.connect(host='localhost',\n",
    "                     user='root',\n",
    "                     password='Aa123456',\n",
    "                     database='dbtest',\n",
    "                     charset='utf8')\n",
    "        print(\"数据库连接成功！\")\n",
    "        return ture\n",
    "    except pymysql.Error as e:\n",
    "        print(\"连接数据库错误：\"+str(e))\n",
    "        return false\n",
    "    \n"
   ]
  },
  {
   "cell_type": "markdown",
   "id": "323cdad3",
   "metadata": {},
   "source": [
    "def create_stock_basics_table():\n",
    "    \n",
    "    sql='DROP TABLE IF EXISTS Student'\n",
    "\n",
    "    cur.execute(sql)\n",
    "    df =cur.fetchone()\n",
    "\n",
    "    sql = 'CREATE TABLE Student(Name CHAR(20) NOT NULL, Email CHAR(20), Age int)'\n",
    "    cur.execute(sql)\n",
    "    "
   ]
  },
  {
   "cell_type": "code",
   "execution_count": null,
   "id": "ebbaba5d",
   "metadata": {},
   "outputs": [],
   "source": [
    "def create_stock_daily_table():\n",
    "    "
   ]
  }
 ],
 "metadata": {
  "kernelspec": {
   "display_name": "Python 3 (ipykernel)",
   "language": "python",
   "name": "python3"
  },
  "language_info": {
   "codemirror_mode": {
    "name": "ipython",
    "version": 3
   },
   "file_extension": ".py",
   "mimetype": "text/x-python",
   "name": "python",
   "nbconvert_exporter": "python",
   "pygments_lexer": "ipython3",
   "version": "3.9.13"
  }
 },
 "nbformat": 4,
 "nbformat_minor": 5
}
