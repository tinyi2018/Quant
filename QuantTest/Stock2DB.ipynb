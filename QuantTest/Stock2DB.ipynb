{
 "cells": [
  {
   "cell_type": "code",
   "execution_count": 1,
   "id": "403dc947",
   "metadata": {},
   "outputs": [],
   "source": [
    "import pandas as pd\n",
    "import tushare as ts\n",
    "import pymysql\n",
    "import re\n"
   ]
  },
  {
   "cell_type": "code",
   "execution_count": 2,
   "id": "ea71f01a",
   "metadata": {},
   "outputs": [],
   "source": [
    "ts.set_token('af5f423bb57f376e71c2903058362f8e3e053fe30f486463f9bdac8e')\n",
    "pro = ts.pro_api()\n",
    "#pro = ts.pro_api('af5f423bb57f376e71c2903058362f8e3e053fe30f486463f9bdac8e')\n",
    "\n",
    "\n",
    "\n",
    "\n",
    "#ts_list = '''000001.SZ,600000.SH,002920.SZ,600089.SH, 600096.SH, 002956.SZ, 600872.SH, 601700.SH,\n",
    "#        601789.SH, 000049.SZ, 002222.SZ, 300815.SZ, 600653.SH'''\n",
    "#ts_list = '''000001.SZ,600000.SH,002920.SZ,600089.SH, 600096.SH, 002956.SZ, 600872.SH, 601700.SH'''\n",
    "#ts_list = '601700.SH'\n",
    "#df = pro.daily(ts_code=ts_list, start_date='20220616', end_date='20220707')"
   ]
  },
  {
   "cell_type": "code",
   "execution_count": 3,
   "id": "2273e42a",
   "metadata": {},
   "outputs": [],
   "source": [
    "df = pro.stock_basic()"
   ]
  },
  {
   "cell_type": "code",
   "execution_count": 4,
   "id": "613e5a12",
   "metadata": {},
   "outputs": [
    {
     "data": {
      "text/html": [
       "<div>\n",
       "<style scoped>\n",
       "    .dataframe tbody tr th:only-of-type {\n",
       "        vertical-align: middle;\n",
       "    }\n",
       "\n",
       "    .dataframe tbody tr th {\n",
       "        vertical-align: top;\n",
       "    }\n",
       "\n",
       "    .dataframe thead th {\n",
       "        text-align: right;\n",
       "    }\n",
       "</style>\n",
       "<table border=\"1\" class=\"dataframe\">\n",
       "  <thead>\n",
       "    <tr style=\"text-align: right;\">\n",
       "      <th></th>\n",
       "      <th>ts_code</th>\n",
       "      <th>symbol</th>\n",
       "      <th>name</th>\n",
       "      <th>area</th>\n",
       "      <th>industry</th>\n",
       "      <th>market</th>\n",
       "      <th>list_date</th>\n",
       "    </tr>\n",
       "  </thead>\n",
       "  <tbody>\n",
       "    <tr>\n",
       "      <th>0</th>\n",
       "      <td>000001.SZ</td>\n",
       "      <td>000001</td>\n",
       "      <td>平安银行</td>\n",
       "      <td>深圳</td>\n",
       "      <td>银行</td>\n",
       "      <td>主板</td>\n",
       "      <td>19910403</td>\n",
       "    </tr>\n",
       "    <tr>\n",
       "      <th>1</th>\n",
       "      <td>000002.SZ</td>\n",
       "      <td>000002</td>\n",
       "      <td>万科A</td>\n",
       "      <td>深圳</td>\n",
       "      <td>全国地产</td>\n",
       "      <td>主板</td>\n",
       "      <td>19910129</td>\n",
       "    </tr>\n",
       "    <tr>\n",
       "      <th>2</th>\n",
       "      <td>000004.SZ</td>\n",
       "      <td>000004</td>\n",
       "      <td>ST国华</td>\n",
       "      <td>深圳</td>\n",
       "      <td>软件服务</td>\n",
       "      <td>主板</td>\n",
       "      <td>19910114</td>\n",
       "    </tr>\n",
       "    <tr>\n",
       "      <th>3</th>\n",
       "      <td>000005.SZ</td>\n",
       "      <td>000005</td>\n",
       "      <td>ST星源</td>\n",
       "      <td>深圳</td>\n",
       "      <td>环境保护</td>\n",
       "      <td>主板</td>\n",
       "      <td>19901210</td>\n",
       "    </tr>\n",
       "    <tr>\n",
       "      <th>4</th>\n",
       "      <td>000006.SZ</td>\n",
       "      <td>000006</td>\n",
       "      <td>深振业A</td>\n",
       "      <td>深圳</td>\n",
       "      <td>区域地产</td>\n",
       "      <td>主板</td>\n",
       "      <td>19920427</td>\n",
       "    </tr>\n",
       "    <tr>\n",
       "      <th>...</th>\n",
       "      <td>...</td>\n",
       "      <td>...</td>\n",
       "      <td>...</td>\n",
       "      <td>...</td>\n",
       "      <td>...</td>\n",
       "      <td>...</td>\n",
       "      <td>...</td>\n",
       "    </tr>\n",
       "    <tr>\n",
       "      <th>4826</th>\n",
       "      <td>871981.BJ</td>\n",
       "      <td>871981</td>\n",
       "      <td>晶赛科技</td>\n",
       "      <td>None</td>\n",
       "      <td>None</td>\n",
       "      <td>北交所</td>\n",
       "      <td>20211115</td>\n",
       "    </tr>\n",
       "    <tr>\n",
       "      <th>4827</th>\n",
       "      <td>872925.BJ</td>\n",
       "      <td>872925</td>\n",
       "      <td>锦好医疗</td>\n",
       "      <td>None</td>\n",
       "      <td>None</td>\n",
       "      <td>北交所</td>\n",
       "      <td>20211025</td>\n",
       "    </tr>\n",
       "    <tr>\n",
       "      <th>4828</th>\n",
       "      <td>873169.BJ</td>\n",
       "      <td>873169</td>\n",
       "      <td>七丰精工</td>\n",
       "      <td>None</td>\n",
       "      <td>None</td>\n",
       "      <td>北交所</td>\n",
       "      <td>20220415</td>\n",
       "    </tr>\n",
       "    <tr>\n",
       "      <th>4829</th>\n",
       "      <td>873223.BJ</td>\n",
       "      <td>873223</td>\n",
       "      <td>荣亿精密</td>\n",
       "      <td>None</td>\n",
       "      <td>None</td>\n",
       "      <td>北交所</td>\n",
       "      <td>20220609</td>\n",
       "    </tr>\n",
       "    <tr>\n",
       "      <th>4830</th>\n",
       "      <td>689009.SH</td>\n",
       "      <td>689009</td>\n",
       "      <td>九号公司-WD</td>\n",
       "      <td>北京</td>\n",
       "      <td>摩托车</td>\n",
       "      <td>CDR</td>\n",
       "      <td>20201029</td>\n",
       "    </tr>\n",
       "  </tbody>\n",
       "</table>\n",
       "<p>4831 rows × 7 columns</p>\n",
       "</div>"
      ],
      "text/plain": [
       "        ts_code  symbol     name  area industry market list_date\n",
       "0     000001.SZ  000001     平安银行    深圳       银行     主板  19910403\n",
       "1     000002.SZ  000002      万科A    深圳     全国地产     主板  19910129\n",
       "2     000004.SZ  000004     ST国华    深圳     软件服务     主板  19910114\n",
       "3     000005.SZ  000005     ST星源    深圳     环境保护     主板  19901210\n",
       "4     000006.SZ  000006     深振业A    深圳     区域地产     主板  19920427\n",
       "...         ...     ...      ...   ...      ...    ...       ...\n",
       "4826  871981.BJ  871981     晶赛科技  None     None    北交所  20211115\n",
       "4827  872925.BJ  872925     锦好医疗  None     None    北交所  20211025\n",
       "4828  873169.BJ  873169     七丰精工  None     None    北交所  20220415\n",
       "4829  873223.BJ  873223     荣亿精密  None     None    北交所  20220609\n",
       "4830  689009.SH  689009  九号公司-WD    北京      摩托车    CDR  20201029\n",
       "\n",
       "[4831 rows x 7 columns]"
      ]
     },
     "execution_count": 4,
     "metadata": {},
     "output_type": "execute_result"
    }
   ],
   "source": [
    "df"
   ]
  },
  {
   "cell_type": "markdown",
   "id": "656a4b84",
   "metadata": {},
   "source": [
    "连接数据库"
   ]
  },
  {
   "cell_type": "code",
   "execution_count": 5,
   "id": "b7c7420f",
   "metadata": {},
   "outputs": [
    {
     "name": "stdout",
     "output_type": "stream",
     "text": [
      "数据库连接成功！\n"
     ]
    }
   ],
   "source": [
    "try:\n",
    "    db = pymysql.connect(host='localhost',\n",
    "                     user='root',\n",
    "                     password='Aa123456',\n",
    "                     database='dbtest',\n",
    "                     charset='utf8')\n",
    "    print(\"数据库连接成功！\")\n",
    "except pymysql.Error as e:\n",
    "    print(\"连接数据库错误：\"+str(e))"
   ]
  },
  {
   "cell_type": "markdown",
   "id": "9aa93c41",
   "metadata": {},
   "source": [
    "创建游标"
   ]
  },
  {
   "cell_type": "code",
   "execution_count": 6,
   "id": "77f513ab",
   "metadata": {},
   "outputs": [
    {
     "name": "stdout",
     "output_type": "stream",
     "text": [
      "('8.0.29',)\n"
     ]
    }
   ],
   "source": [
    "cur = db.cursor()\n",
    "sql = \"SELECT VERSION()\"\n",
    "cur.execute(sql)\n",
    "dbf = cur.fetchone()\n",
    "print(dbf)"
   ]
  },
  {
   "cell_type": "markdown",
   "id": "ae2664ad",
   "metadata": {},
   "source": [
    "创建 Stock_basic 表格，用于存储市场股票基本信息，只运行一次创建，之后只是操作这个表格"
   ]
  },
  {
   "cell_type": "code",
   "execution_count": 7,
   "id": "8430f145",
   "metadata": {},
   "outputs": [],
   "source": [
    "def Create_stock_basic_table():\n",
    "    sql='DROP TABLE IF EXISTS Stock_basic'\n",
    "\n",
    "    cur.execute(sql)\n",
    "    db.commit()\n",
    "\n",
    "    sql = 'CREATE TABLE Stock_basic(id int not null auto_increment PRIMARY  KEY, ts_code CHAR(9) NOT NULL,symbol CHAR(6), name CHAR(16), area CHAR(8),industry CHAR(16),market CHAR(8),list_date CHAR(8) )'\n",
    "    cur.execute(sql)\n",
    "    db.commit()"
   ]
  },
  {
   "cell_type": "code",
   "execution_count": null,
   "id": "df62cd52",
   "metadata": {
    "scrolled": true
   },
   "outputs": [],
   "source": []
  },
  {
   "cell_type": "code",
   "execution_count": 8,
   "id": "fbe486ce",
   "metadata": {},
   "outputs": [],
   "source": [
    "def Stock_basic_insert():\n",
    "    #sql_insert = \"INSERT INTO Stock_basic(stock_code,date,open,high,close,low,volume,chg,chg_percent,ma5,ma10,\\\n",
    "    #        ma20,vma5,vma10,vma20,turnover) VALUES (%s,%s,%s,%s,%s,%s,%s,%s,%s,%s,%s,%s,%s,%s,%s,%s)\"\n",
    "    sql_insert = \"INSERT INTO Stock_basic(ts_code, symbol, name, area, industry, market, list_date) VALUES (%s,%s,%s,%s,%s,%s,%s)\"\n",
    "    for indexs in range(1,df.index.stop):\n",
    "#indexs =0\n",
    "        cur.execute(sql_insert,(str(df.loc[indexs,'ts_code']),str(df.loc[indexs,'symbol']),str(df.loc[indexs,'name']),str(df.loc[indexs,'area']),\\\n",
    "                                       str(df.loc[indexs,'industry']),str(df.loc[indexs,'market']),str(df.loc[indexs,'list_date'])))\n",
    "        db.commit()\n",
    "        print(\"写入成功一只股票数据！\" + str(indexs))"
   ]
  },
  {
   "cell_type": "markdown",
   "id": "135281b9",
   "metadata": {},
   "source": [
    "获取日线行情数据"
   ]
  },
  {
   "cell_type": "code",
   "execution_count": 9,
   "id": "6f370e36",
   "metadata": {},
   "outputs": [],
   "source": [
    "df = pro.daily(ts_code='000001.SZ', start_date='20220701', end_date='20220712')"
   ]
  },
  {
   "cell_type": "code",
   "execution_count": 10,
   "id": "bb7e7b71",
   "metadata": {},
   "outputs": [
    {
     "data": {
      "text/html": [
       "<div>\n",
       "<style scoped>\n",
       "    .dataframe tbody tr th:only-of-type {\n",
       "        vertical-align: middle;\n",
       "    }\n",
       "\n",
       "    .dataframe tbody tr th {\n",
       "        vertical-align: top;\n",
       "    }\n",
       "\n",
       "    .dataframe thead th {\n",
       "        text-align: right;\n",
       "    }\n",
       "</style>\n",
       "<table border=\"1\" class=\"dataframe\">\n",
       "  <thead>\n",
       "    <tr style=\"text-align: right;\">\n",
       "      <th></th>\n",
       "      <th>ts_code</th>\n",
       "      <th>trade_date</th>\n",
       "      <th>open</th>\n",
       "      <th>high</th>\n",
       "      <th>low</th>\n",
       "      <th>close</th>\n",
       "      <th>pre_close</th>\n",
       "      <th>change</th>\n",
       "      <th>pct_chg</th>\n",
       "      <th>vol</th>\n",
       "      <th>amount</th>\n",
       "    </tr>\n",
       "  </thead>\n",
       "  <tbody>\n",
       "    <tr>\n",
       "      <th>0</th>\n",
       "      <td>000001.SZ</td>\n",
       "      <td>20220712</td>\n",
       "      <td>14.41</td>\n",
       "      <td>14.73</td>\n",
       "      <td>14.38</td>\n",
       "      <td>14.42</td>\n",
       "      <td>14.46</td>\n",
       "      <td>-0.04</td>\n",
       "      <td>-0.2766</td>\n",
       "      <td>742882.42</td>\n",
       "      <td>1078431.990</td>\n",
       "    </tr>\n",
       "    <tr>\n",
       "      <th>1</th>\n",
       "      <td>000001.SZ</td>\n",
       "      <td>20220711</td>\n",
       "      <td>14.50</td>\n",
       "      <td>14.57</td>\n",
       "      <td>14.36</td>\n",
       "      <td>14.46</td>\n",
       "      <td>14.54</td>\n",
       "      <td>-0.08</td>\n",
       "      <td>-0.5502</td>\n",
       "      <td>611691.94</td>\n",
       "      <td>883613.754</td>\n",
       "    </tr>\n",
       "    <tr>\n",
       "      <th>2</th>\n",
       "      <td>000001.SZ</td>\n",
       "      <td>20220708</td>\n",
       "      <td>14.50</td>\n",
       "      <td>14.65</td>\n",
       "      <td>14.37</td>\n",
       "      <td>14.54</td>\n",
       "      <td>14.42</td>\n",
       "      <td>0.12</td>\n",
       "      <td>0.8322</td>\n",
       "      <td>639698.23</td>\n",
       "      <td>928850.349</td>\n",
       "    </tr>\n",
       "    <tr>\n",
       "      <th>3</th>\n",
       "      <td>000001.SZ</td>\n",
       "      <td>20220707</td>\n",
       "      <td>14.54</td>\n",
       "      <td>14.65</td>\n",
       "      <td>14.38</td>\n",
       "      <td>14.42</td>\n",
       "      <td>14.53</td>\n",
       "      <td>-0.11</td>\n",
       "      <td>-0.7571</td>\n",
       "      <td>730160.98</td>\n",
       "      <td>1057696.547</td>\n",
       "    </tr>\n",
       "    <tr>\n",
       "      <th>4</th>\n",
       "      <td>000001.SZ</td>\n",
       "      <td>20220706</td>\n",
       "      <td>14.83</td>\n",
       "      <td>14.93</td>\n",
       "      <td>14.46</td>\n",
       "      <td>14.53</td>\n",
       "      <td>14.91</td>\n",
       "      <td>-0.38</td>\n",
       "      <td>-2.5486</td>\n",
       "      <td>1043335.23</td>\n",
       "      <td>1520022.515</td>\n",
       "    </tr>\n",
       "    <tr>\n",
       "      <th>5</th>\n",
       "      <td>000001.SZ</td>\n",
       "      <td>20220705</td>\n",
       "      <td>14.99</td>\n",
       "      <td>15.27</td>\n",
       "      <td>14.82</td>\n",
       "      <td>14.91</td>\n",
       "      <td>14.94</td>\n",
       "      <td>-0.03</td>\n",
       "      <td>-0.2008</td>\n",
       "      <td>1115172.10</td>\n",
       "      <td>1674719.025</td>\n",
       "    </tr>\n",
       "    <tr>\n",
       "      <th>6</th>\n",
       "      <td>000001.SZ</td>\n",
       "      <td>20220704</td>\n",
       "      <td>14.95</td>\n",
       "      <td>14.98</td>\n",
       "      <td>14.75</td>\n",
       "      <td>14.94</td>\n",
       "      <td>14.92</td>\n",
       "      <td>0.02</td>\n",
       "      <td>0.1340</td>\n",
       "      <td>834968.07</td>\n",
       "      <td>1241453.402</td>\n",
       "    </tr>\n",
       "    <tr>\n",
       "      <th>7</th>\n",
       "      <td>000001.SZ</td>\n",
       "      <td>20220701</td>\n",
       "      <td>15.00</td>\n",
       "      <td>15.07</td>\n",
       "      <td>14.84</td>\n",
       "      <td>14.92</td>\n",
       "      <td>14.98</td>\n",
       "      <td>-0.06</td>\n",
       "      <td>-0.4005</td>\n",
       "      <td>779243.32</td>\n",
       "      <td>1164030.776</td>\n",
       "    </tr>\n",
       "  </tbody>\n",
       "</table>\n",
       "</div>"
      ],
      "text/plain": [
       "     ts_code trade_date   open   high    low  close  pre_close  change  \\\n",
       "0  000001.SZ   20220712  14.41  14.73  14.38  14.42      14.46   -0.04   \n",
       "1  000001.SZ   20220711  14.50  14.57  14.36  14.46      14.54   -0.08   \n",
       "2  000001.SZ   20220708  14.50  14.65  14.37  14.54      14.42    0.12   \n",
       "3  000001.SZ   20220707  14.54  14.65  14.38  14.42      14.53   -0.11   \n",
       "4  000001.SZ   20220706  14.83  14.93  14.46  14.53      14.91   -0.38   \n",
       "5  000001.SZ   20220705  14.99  15.27  14.82  14.91      14.94   -0.03   \n",
       "6  000001.SZ   20220704  14.95  14.98  14.75  14.94      14.92    0.02   \n",
       "7  000001.SZ   20220701  15.00  15.07  14.84  14.92      14.98   -0.06   \n",
       "\n",
       "   pct_chg         vol       amount  \n",
       "0  -0.2766   742882.42  1078431.990  \n",
       "1  -0.5502   611691.94   883613.754  \n",
       "2   0.8322   639698.23   928850.349  \n",
       "3  -0.7571   730160.98  1057696.547  \n",
       "4  -2.5486  1043335.23  1520022.515  \n",
       "5  -0.2008  1115172.10  1674719.025  \n",
       "6   0.1340   834968.07  1241453.402  \n",
       "7  -0.4005   779243.32  1164030.776  "
      ]
     },
     "execution_count": 10,
     "metadata": {},
     "output_type": "execute_result"
    }
   ],
   "source": [
    "df"
   ]
  },
  {
   "cell_type": "markdown",
   "id": "f8a0ccec",
   "metadata": {},
   "source": [
    "创建存储日线行情的表， 每个股票创建一个表"
   ]
  },
  {
   "cell_type": "code",
   "execution_count": 11,
   "id": "fd97b0ee",
   "metadata": {},
   "outputs": [
    {
     "name": "stdout",
     "output_type": "stream",
     "text": [
      "<class 'pandas.core.frame.DataFrame'>\n",
      "RangeIndex: 8 entries, 0 to 7\n",
      "Data columns (total 11 columns):\n",
      " #   Column      Non-Null Count  Dtype  \n",
      "---  ------      --------------  -----  \n",
      " 0   ts_code     8 non-null      object \n",
      " 1   trade_date  8 non-null      object \n",
      " 2   open        8 non-null      float64\n",
      " 3   high        8 non-null      float64\n",
      " 4   low         8 non-null      float64\n",
      " 5   close       8 non-null      float64\n",
      " 6   pre_close   8 non-null      float64\n",
      " 7   change      8 non-null      float64\n",
      " 8   pct_chg     8 non-null      float64\n",
      " 9   vol         8 non-null      float64\n",
      " 10  amount      8 non-null      float64\n",
      "dtypes: float64(9), object(2)\n",
      "memory usage: 832.0+ bytes\n"
     ]
    }
   ],
   "source": [
    "df.info()"
   ]
  },
  {
   "cell_type": "code",
   "execution_count": 12,
   "id": "948eaf8f",
   "metadata": {},
   "outputs": [
    {
     "name": "stdout",
     "output_type": "stream",
     "text": [
      "('8.0.29',)\n"
     ]
    }
   ],
   "source": [
    "cur = db.cursor()\n",
    "sql = \"SELECT VERSION()\"\n",
    "cur.execute(sql)\n",
    "dbf = cur.fetchone()\n",
    "print(dbf)"
   ]
  },
  {
   "cell_type": "code",
   "execution_count": 13,
   "id": "f6fde9a7",
   "metadata": {},
   "outputs": [],
   "source": [
    "def Str_remove_dot(str_org):   \n",
    "    str = str_org\n",
    "    a = str.split('.',-1)\n",
    "    str_new = a[0]+a[1]\n",
    "    return str_new"
   ]
  },
  {
   "cell_type": "markdown",
   "id": "94116b44",
   "metadata": {},
   "source": [
    "创建日线表格，价格字段使用 decimal(8,2)\n",
    "通过 VALUE 动态改变表名的一种方式\n",
    "mysql 中字段不能使用带点\".\" , 不能使用一些关键字， 如 change, modify 等 "
   ]
  },
  {
   "cell_type": "code",
   "execution_count": 60,
   "id": "a7fdbb6d",
   "metadata": {},
   "outputs": [],
   "source": [
    "def Create_stock_daily_table_2(stock_code):\n",
    "\n",
    "#    if(len(stock_code) != 9):\n",
    "#       print(\"股票代码长度不正确！！\")\n",
    "#       return false\n",
    "    table_name = '{}{}'.format(stock_code[:6], stock_code[7:])\n",
    "    print (\"Table name:\" + table_name)\n",
    "    \n",
    " #   try:\n",
    "#        VALUE =Str_remove_dot(stock_code)\n",
    "    sql = \"\"\"CREATE TABLE {:s} (id int not null auto_increment PRIMARY  KEY, ts_code CHAR(9) NOT NULL,trade_date CHAR(8), open decimal(8,2),\n",
    "           high decimal(8,2), low decimal(8,2),close decimal(8,2), pre_close decimal(8,2), pri_chg decimal(8,2), pct_chg decimal(10,4), vol decimal(16,2), amount decimal(16,2) )\"\"\".format(table_name)\n",
    "    cur.execute(sql)\n",
    "    db.commit()\n",
    "    print (\"Create Table: \" + table_name)\n",
    "  #  except:\n",
    "  #      print(\"Create Table False!!!\")"
   ]
  },
  {
   "cell_type": "markdown",
   "id": "2ef315d6",
   "metadata": {},
   "source": [
    "创建日线表格，价格字段使用字符串"
   ]
  },
  {
   "cell_type": "code",
   "execution_count": 49,
   "id": "85273488",
   "metadata": {},
   "outputs": [],
   "source": [
    "def Create_stock_daily_table(stock_code):\n",
    "\n",
    "    if(len(stock_code) != 9):\n",
    "       print(\"股票代码长度不正确！！\")\n",
    "       return false\n",
    "    \n",
    "    try:\n",
    "        VALUE =Str_remove_dot(stock_code)\n",
    "        sql = \"\"\"CREATE TABLE {:s} (id int not null auto_increment PRIMARY  KEY, ts_code CHAR(9) NOT NULL,trade_date CHAR(8), open CHAR(10),\n",
    "           high CHAR(10), low CHAR(10),close CHAR(10), pre_close CHAR(10), pri_chg CHAR(10), pct_chg CHAR(8), vol CHAR(16), amount CHAR(16) )\"\"\".format(VALUE)\n",
    "        cur.execute(sql)\n",
    "        db.commit()\n",
    "        print (\"Create Table: \" + VALUE)\n",
    "    except:\n",
    "        print(\"Create Table False!!!\")"
   ]
  },
  {
   "cell_type": "code",
   "execution_count": 50,
   "id": "cc524aa5",
   "metadata": {},
   "outputs": [
    {
     "name": "stdout",
     "output_type": "stream",
     "text": [
      "Create Table False!!!\n"
     ]
    }
   ],
   "source": [
    "stock_co ='000001.sz'\n",
    "Create_stock_daily_table(stock_co)"
   ]
  },
  {
   "cell_type": "code",
   "execution_count": 51,
   "id": "a22cdad0",
   "metadata": {},
   "outputs": [],
   "source": [
    "def Del_stock_daily_table(stock_code):\n",
    "    \n",
    "    if(len(stock_code) != 9):\n",
    "       print(\"股票代码长度不正确！！\")\n",
    "       return false\n",
    "    \n",
    "    try:\n",
    "        VALUE =Str_remove_dot(stock_code)\n",
    "#        sql = \"\"\"CREATE TABLE {:s} (id int not null auto_increment PRIMARY  KEY, ts_code CHAR(9) NOT NULL,trade_date CHAR(8), open CHAR(10),\n",
    "#           high CHAR(10), low CHAR(10),close CHAR(10), pre_close CHAR(10), pri_chg CHAR(10), pct_chg CHAR(8), vol CHAR(16), amount CHAR(16) )\"\"\".format(VALUE)\n",
    "        sql = 'DROP TABLE IF EXISTS {:s}'.format(VALUE)\n",
    "        cur.execute(sql)\n",
    "        db.commit()\n",
    "        print (\"Del Table: \" + VALUE)\n",
    "    except:\n",
    "        print(\"Del Table Error!!!\")"
   ]
  },
  {
   "cell_type": "code",
   "execution_count": 52,
   "id": "7c6c0a69",
   "metadata": {},
   "outputs": [],
   "source": [
    "stock_co ='000007.sz'\n",
    "#Del_stock_daily_table(stock_co)"
   ]
  },
  {
   "cell_type": "code",
   "execution_count": 72,
   "id": "dc9d8c9e",
   "metadata": {},
   "outputs": [
    {
     "data": {
      "text/plain": [
       "numpy.float64"
      ]
     },
     "execution_count": 72,
     "metadata": {},
     "output_type": "execute_result"
    }
   ],
   "source": [
    "type(df.loc[2,'high'])"
   ]
  },
  {
   "cell_type": "markdown",
   "id": "f87c5ae9",
   "metadata": {},
   "source": [
    "日线数据写入db"
   ]
  },
  {
   "cell_type": "code",
   "execution_count": 54,
   "id": "d61e29ad",
   "metadata": {},
   "outputs": [],
   "source": [
    "def Insert_stock_daily():\n",
    "    #sql_insert = \"INSERT INTO Stock_basic(stock_code,date,open,high,close,low,volume,chg,chg_percent,ma5,ma10,\\\n",
    "    #        ma20,vma5,vma10,vma20,turnover) VALUES (%s,%s,%s,%s,%s,%s,%s,%s,%s,%s,%s,%s,%s,%s,%s,%s)\"\n",
    "    sql_insert = \"\"\"INSERT INTO 000001sz(ts_code, trade_date, open, high, low, close, pre_close, pri_chg, pct_chg, vol,\n",
    "                  amount) VALUES (%s,%s,%s,%s,%s,%s,%s,%s,%s,%s,%s)\"\"\"\n",
    "    for indexs in range(0,df.index.stop):\n",
    "        try:\n",
    "            cur.execute(sql_insert,(str(df.loc[indexs,'ts_code']),str(df.loc[indexs,'trade_date']),str(df.loc[indexs,'open']),str(df.loc[indexs,'high']),\\\n",
    "                                str(df.loc[indexs,'low']),str(df.loc[indexs,'close']),str(df.loc[indexs,'pre_close']),str(df.loc[indexs,'change']),\\\n",
    "                                str(df.loc[indexs,'pct_chg']),str(df.loc[indexs,'vol']),str(df.loc[indexs,'amount']) ))\n",
    "            db.commit()\n",
    "            print(\"写入成功一条股票日线数据！\" + str(indexs))\n",
    "        except:\n",
    "            print(\"写入日线数据失败！！！\")"
   ]
  },
  {
   "cell_type": "markdown",
   "id": "112a662b",
   "metadata": {},
   "source": [
    "日线写入， 使用 decimal(8,2) 格式"
   ]
  },
  {
   "cell_type": "code",
   "execution_count": 81,
   "id": "2a0321d7",
   "metadata": {},
   "outputs": [],
   "source": [
    "def Insert_stock_daily_2(stock_code):\n",
    "    #sql_insert = \"INSERT INTO Stock_basic(stock_code,date,open,high,close,low,volume,chg,chg_percent,ma5,ma10,\\\n",
    "    #        ma20,vma5,vma10,vma20,turnover) VALUES (%s,%s,%s,%s,%s,%s,%s,%s,%s,%s,%s,%s,%s,%s,%s,%s)\"\n",
    "    \n",
    "    table_name = '{}{}'.format(stock_code[:6], stock_code[7:])\n",
    "    print (\"Table name:\" + table_name)\n",
    "    \n",
    "    sql_insert = \"\"\"INSERT INTO {:s}(ts_code, trade_date, open, high, low, close, pre_close, pri_chg, pct_chg, vol,\n",
    "                  amount) VALUES (%s,%s,%s,%s,%s,%s,%s,%s,%s,%s,%s)\"\"\".format(table_name)\n",
    "    for indexs in range(0,df.index.stop):\n",
    "        try:\n",
    "            cur.execute(sql_insert,(str(df.loc[indexs,'ts_code']),str(df.loc[indexs,'trade_date']),str(df.loc[indexs,'open']),str(df.loc[indexs,'high']),\\\n",
    "                                str(df.loc[indexs,'low']),str(df.loc[indexs,'close']),str(df.loc[indexs,'pre_close']),str(df.loc[indexs,'change']),\\\n",
    "                                str(df.loc[indexs,'pct_chg']),str(df.loc[indexs,'vol']),str(df.loc[indexs,'amount']) ))\n",
    "            db.commit()\n",
    "            print(\"写入成功一条股票日线数据！\" + str(indexs))\n",
    "        except:\n",
    "            print(\"写入日线数据失败！！！\")\n"
   ]
  },
  {
   "cell_type": "code",
   "execution_count": 56,
   "id": "7f0c33e6",
   "metadata": {},
   "outputs": [
    {
     "name": "stdout",
     "output_type": "stream",
     "text": [
      "写入成功一条股票日线数据！0\n",
      "写入成功一条股票日线数据！1\n",
      "写入成功一条股票日线数据！2\n",
      "写入成功一条股票日线数据！3\n",
      "写入成功一条股票日线数据！4\n",
      "写入成功一条股票日线数据！5\n",
      "写入成功一条股票日线数据！6\n",
      "写入成功一条股票日线数据！7\n"
     ]
    }
   ],
   "source": [
    "Insert_stock_daily()"
   ]
  },
  {
   "cell_type": "code",
   "execution_count": 82,
   "id": "73099b6b",
   "metadata": {},
   "outputs": [
    {
     "name": "stdout",
     "output_type": "stream",
     "text": [
      "Table name:000010sz\n",
      "写入成功一条股票日线数据！0\n",
      "写入成功一条股票日线数据！1\n",
      "写入成功一条股票日线数据！2\n",
      "写入成功一条股票日线数据！3\n",
      "写入成功一条股票日线数据！4\n",
      "写入成功一条股票日线数据！5\n",
      "写入成功一条股票日线数据！6\n",
      "写入成功一条股票日线数据！7\n"
     ]
    }
   ],
   "source": [
    "sc = '000010.sz'\n",
    "#Create_stock_daily_table_2(sc)\n",
    "Insert_stock_daily_2(sc)"
   ]
  },
  {
   "cell_type": "code",
   "execution_count": 86,
   "id": "45e85471",
   "metadata": {},
   "outputs": [
    {
     "name": "stdout",
     "output_type": "stream",
     "text": [
      "((1, '000001.SZ', '20220712', Decimal('14.41'), Decimal('14.73'), Decimal('14.38'), Decimal('14.42'), Decimal('14.46'), Decimal('-0.04'), Decimal('-0.2766'), Decimal('742882.42'), Decimal('1078431.99')), (2, '000001.SZ', '20220711', Decimal('14.50'), Decimal('14.57'), Decimal('14.36'), Decimal('14.46'), Decimal('14.54'), Decimal('-0.08'), Decimal('-0.5502'), Decimal('611691.94'), Decimal('883613.75')), (3, '000001.SZ', '20220708', Decimal('14.50'), Decimal('14.65'), Decimal('14.37'), Decimal('14.54'), Decimal('14.42'), Decimal('0.12'), Decimal('0.8322'), Decimal('639698.23'), Decimal('928850.35')), (4, '000001.SZ', '20220707', Decimal('14.54'), Decimal('14.65'), Decimal('14.38'), Decimal('14.42'), Decimal('14.53'), Decimal('-0.11'), Decimal('-0.7571'), Decimal('730160.98'), Decimal('1057696.55')), (5, '000001.SZ', '20220706', Decimal('14.83'), Decimal('14.93'), Decimal('14.46'), Decimal('14.53'), Decimal('14.91'), Decimal('-0.38'), Decimal('-2.5486'), Decimal('1043335.23'), Decimal('1520022.52')), (6, '000001.SZ', '20220705', Decimal('14.99'), Decimal('15.27'), Decimal('14.82'), Decimal('14.91'), Decimal('14.94'), Decimal('-0.03'), Decimal('-0.2008'), Decimal('1115172.10'), Decimal('1674719.03')), (7, '000001.SZ', '20220704', Decimal('14.95'), Decimal('14.98'), Decimal('14.75'), Decimal('14.94'), Decimal('14.92'), Decimal('0.02'), Decimal('0.1340'), Decimal('834968.07'), Decimal('1241453.40')), (8, '000001.SZ', '20220701', Decimal('15.00'), Decimal('15.07'), Decimal('14.84'), Decimal('14.92'), Decimal('14.98'), Decimal('-0.06'), Decimal('-0.4005'), Decimal('779243.32'), Decimal('1164030.78')))\n",
      "14.41\n"
     ]
    }
   ],
   "source": [
    "sql = 'SELECT * FROM 000010sz'\n",
    "cur.execute(sql)\n",
    "result = cur.fetchall()\n",
    "print(result)\n",
    "print(result[0][3])"
   ]
  }
 ],
 "metadata": {
  "kernelspec": {
   "display_name": "Python 3 (ipykernel)",
   "language": "python",
   "name": "python3"
  },
  "language_info": {
   "codemirror_mode": {
    "name": "ipython",
    "version": 3
   },
   "file_extension": ".py",
   "mimetype": "text/x-python",
   "name": "python",
   "nbconvert_exporter": "python",
   "pygments_lexer": "ipython3",
   "version": "3.9.13"
  }
 },
 "nbformat": 4,
 "nbformat_minor": 5
}
