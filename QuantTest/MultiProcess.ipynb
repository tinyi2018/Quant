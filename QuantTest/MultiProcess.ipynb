{
 "cells": [
  {
   "cell_type": "code",
   "execution_count": 13,
   "id": "1d1c214a",
   "metadata": {},
   "outputs": [
    {
     "name": "stdout",
     "output_type": "stream",
     "text": [
      "subprocess pid: 19124\n",
      "current process pid: 8680\n"
     ]
    }
   ],
   "source": [
    "from multiprocessing import Process \n",
    "import os, time\n",
    "\n",
    "def pstart(name):\n",
    "  # time.sleep(0.1)\n",
    "    print(\"HHHHHHHHHHHH\")\n",
    "    aaa =0\n",
    "    while aaa <10:\n",
    "        aaa +=1\n",
    "        time.sleep(0.5)\n",
    "        print(name + str(aaa))\n",
    "    print(\"Process name: %s, pid: %s \"%(name, os.getpid()))\n",
    "\n",
    "def pstart2(name):\n",
    "    aaa =0\n",
    "    while aaa<10:\n",
    "        aaa +=1\n",
    "        time.sleep(0.3)\n",
    "        print(name + str(aaa))\n",
    "    print(\"Process name: %s, pid: %s \"%(name, os.getpid()))\n",
    "\n",
    "if __name__ == \"__main__\": \n",
    "  subproc = Process(target=pstart, args=('subprocess',)) \n",
    "  subproc2 = Process(target=pstart2, args=('subprocess_2',))\n",
    "  subproc.start() \n",
    "  subproc2.start()\n",
    "  subproc.join()\n",
    "  print(\"subprocess pid: %s\"%subproc.pid)\n",
    "  print(\"current process pid: %s\" % os.getpid())"
   ]
  }
 ],
 "metadata": {
  "kernelspec": {
   "display_name": "Python [conda env:py39] *",
   "language": "python",
   "name": "conda-env-py39-py"
  },
  "language_info": {
   "codemirror_mode": {
    "name": "ipython",
    "version": 3
   },
   "file_extension": ".py",
   "mimetype": "text/x-python",
   "name": "python",
   "nbconvert_exporter": "python",
   "pygments_lexer": "ipython3",
   "version": "3.9.13"
  }
 },
 "nbformat": 4,
 "nbformat_minor": 5
}
