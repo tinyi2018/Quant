{
 "cells": [
  {
   "cell_type": "code",
   "execution_count": 6,
   "id": "5dac44c4",
   "metadata": {},
   "outputs": [
    {
     "name": "stdout",
     "output_type": "stream",
     "text": [
      "hello world 1\n"
     ]
    }
   ],
   "source": [
    "print (\"hello world 1\")\n",
    "print (\" This is Jupyter notebook\")"
   ]
  },
  {
   "cell_type": "markdown",
   "id": "1c461340",
   "metadata": {},
   "source": [
    "#这是一号目标标题"
   ]
  },
  {
   "cell_type": "markdown",
   "id": "eef28ca9",
   "metadata": {},
   "source": [
    "#这是二号标题"
   ]
  },
  {
   "cell_type": "markdown",
   "id": "de63cf4f",
   "metadata": {},
   "source": [
    "载fjdfjadlsfa\n"
   ]
  },
  {
   "cell_type": "markdown",
   "id": "95fc1527",
   "metadata": {},
   "source": [
    "jdjfjkddddjfkalsdjfajsdfkjal\n",
    "dafd"
   ]
  },
  {
   "cell_type": "code",
   "execution_count": 7,
   "id": "3883b900",
   "metadata": {},
   "outputs": [
    {
     "name": "stdout",
     "output_type": "stream",
     "text": [
      "2550.0\n"
     ]
    }
   ],
   "source": [
    "a= 102*100*1/4\n",
    "print (a)"
   ]
  },
  {
   "cell_type": "code",
   "execution_count": 9,
   "id": "2d5bec2a",
   "metadata": {},
   "outputs": [
    {
     "name": "stdout",
     "output_type": "stream",
     "text": [
      "2775.0\n"
     ]
    }
   ],
   "source": [
    "b = 148*100*(3/4)/4\n",
    "print (b)"
   ]
  },
  {
   "cell_type": "code",
   "execution_count": 13,
   "id": "a92bff2c",
   "metadata": {},
   "outputs": [
    {
     "name": "stdout",
     "output_type": "stream",
     "text": [
      "686506206\n",
      "747080912\n",
      "1.0882362103511705\n"
     ]
    }
   ],
   "source": [
    "c= 102*6730453\n",
    "print (c)\n",
    "d = 148 * 5047844\n",
    "print (d)\n",
    "print (d/c)"
   ]
  },
  {
   "cell_type": "code",
   "execution_count": null,
   "id": "14f79b13",
   "metadata": {},
   "outputs": [],
   "source": []
  }
 ],
 "metadata": {
  "kernelspec": {
   "display_name": "Python 3 (ipykernel)",
   "language": "python",
   "name": "python3"
  },
  "language_info": {
   "codemirror_mode": {
    "name": "ipython",
    "version": 3
   },
   "file_extension": ".py",
   "mimetype": "text/x-python",
   "name": "python",
   "nbconvert_exporter": "python",
   "pygments_lexer": "ipython3",
   "version": "3.9.13"
  }
 },
 "nbformat": 4,
 "nbformat_minor": 5
}
