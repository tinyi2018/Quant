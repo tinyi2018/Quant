{
 "cells": [
  {
   "cell_type": "code",
   "execution_count": 1,
   "id": "c3c9b359",
   "metadata": {},
   "outputs": [],
   "source": [
    "import numpy as np\n",
    "import random as rd\n",
    "import sys\n",
    "import time\n"
   ]
  },
  {
   "cell_type": "code",
   "execution_count": 9,
   "id": "14b3587f",
   "metadata": {},
   "outputs": [],
   "source": [
    "a = [round(rd.uniform(10,50),2) for i in range(20)]\n",
    "b = [rd.randint(1,100) for i in range(20)]\n",
    "c = np.array(a)\n",
    "d = np.array(b)"
   ]
  },
  {
   "cell_type": "code",
   "execution_count": 11,
   "id": "9027ef8c",
   "metadata": {},
   "outputs": [
    {
     "data": {
      "text/plain": [
       "dtype('int32')"
      ]
     },
     "execution_count": 11,
     "metadata": {},
     "output_type": "execute_result"
    }
   ],
   "source": [
    "d.dtype\n"
   ]
  }
 ],
 "metadata": {
  "kernelspec": {
   "display_name": "Python 3 (ipykernel)",
   "language": "python",
   "name": "python3"
  },
  "language_info": {
   "codemirror_mode": {
    "name": "ipython",
    "version": 3
   },
   "file_extension": ".py",
   "mimetype": "text/x-python",
   "name": "python",
   "nbconvert_exporter": "python",
   "pygments_lexer": "ipython3",
   "version": "3.9.16"
  }
 },
 "nbformat": 4,
 "nbformat_minor": 5
}
