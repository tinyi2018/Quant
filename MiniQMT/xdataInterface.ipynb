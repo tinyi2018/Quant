{
 "cells": [
  {
   "cell_type": "code",
   "execution_count": 1,
   "metadata": {},
   "outputs": [],
   "source": [
    "import pandas as pd\n",
    "from xtquant import xtdata\n",
    "import os\n",
    "os.chdir(\"./\")"
   ]
  },
  {
   "cell_type": "code",
   "execution_count": 2,
   "metadata": {},
   "outputs": [
    {
     "name": "stdout",
     "output_type": "stream",
     "text": [
      "['CLIENT', 'Client', 'MergeData', 'RPCClient', 'TimeListBuilder', '__all__', '__bsoncall_common', '__builtins__', '__cached__', '__curdir', '__doc__', '__file__', '__loader__', '__name__', '__package__', '__rpc_config', '__rpc_init_status', '__spec__', '__xtdata_config', '_get_market_data_ex_221207', '_get_market_data_ex_ori_221207', 'abspath', 'add_sector', 'bson', 'call_formula', 'create_array', 'create_formula', 'create_sector', 'create_sector_folder', 'data_dir', 'datetime_to_timetag', 'debug_mode', 'default_data_dir', 'dirname', 'download_cb_data', 'download_financial_data', 'download_financial_data2', 'download_history_contracts', 'download_history_data', 'download_history_data2', 'download_index_weight', 'download_sector_data', 'getDividFactors', 'get_cb_info', 'get_client', 'get_conn_info', 'get_data_dir', 'get_divid_factors', 'get_financial_data', 'get_full_tick', 'get_holidays', 'get_index_weight', 'get_industry', 'get_instrument_detail', 'get_instrument_type', 'get_ipo_info', 'get_l2_order', 'get_l2_quote', 'get_l2_transaction', 'get_local_data', 'get_main_contract', 'get_market_data', 'get_market_data3', 'get_market_data_ex', 'get_market_data_ex_ori', 'get_market_data_ori', 'get_market_last_trade_date', 'get_markets', 'get_option_detail_data', 'get_option_list', 'get_option_undl_data', 'get_sector_list', 'get_stock_list_in_sector', 'get_stock_type', 'get_trade_times', 'get_trading_calendar', 'get_trading_dates', 'gld', 'gmd', 'gmd2', 'gmd3', 'gsl', 'is_stock_type', 'json', 'make_kline', 'merge_data', 'merge_data_first', 'merge_data_last', 'merge_data_max', 'merge_data_min', 'merge_data_sum', 'os', 'push_custom_data', 'push_xtview_data', 'reconnect', 'register_create_nparray', 'remove_sector', 'remove_stock_from_sector', 'reset_market_stock_list', 'reset_market_trading_day_list', 'reset_sector', 'rpc_init', 'run', 'set_instrument_data2', 'set_instrument_detail', 'subscribe_callback_wrapper', 'subscribe_formula', 'subscribe_l2thousand', 'subscribe_quote', 'subscribe_whole_quote', 'supply_history_data', 'sys', 't2d', 'time', 'timetagToDateTime', 'timetag_to_datetime', 'traceback', 'try_except', 'unsubscribe_formula', 'unsubscribe_quote', 'xtdata_config']\n"
     ]
    }
   ],
   "source": [
    "print(dir(xtdata))"
   ]
  },
  {
   "cell_type": "code",
   "execution_count": 4,
   "metadata": {},
   "outputs": [
    {
     "name": "stdout",
     "output_type": "stream",
     "text": [
      "C:\\Users\\zhu_x\n"
     ]
    }
   ],
   "source": [
    "print(os.environ['USERPROFILE'])"
   ]
  },
  {
   "cell_type": "code",
   "execution_count": 27,
   "metadata": {},
   "outputs": [],
   "source": [
    "startime = '20230102'\n",
    "\n",
    "xtdata.download_history_data('601988.SH', period='1d',start_time= startime)\n",
    "xtdata.download_history_data('300014.SZ', period='1d',start_time= startime)\n"
   ]
  },
  {
   "cell_type": "code",
   "execution_count": 34,
   "metadata": {},
   "outputs": [],
   "source": [
    "data = xtdata.get_market_data(field_list=['time','open','high','low','close','volume'], stock_list=['601988.SH','300014.SZ'], period='1d', count=10)"
   ]
  },
  {
   "cell_type": "code",
   "execution_count": 40,
   "metadata": {},
   "outputs": [
    {
     "data": {
      "text/html": [
       "<div>\n",
       "<style scoped>\n",
       "    .dataframe tbody tr th:only-of-type {\n",
       "        vertical-align: middle;\n",
       "    }\n",
       "\n",
       "    .dataframe tbody tr th {\n",
       "        vertical-align: top;\n",
       "    }\n",
       "\n",
       "    .dataframe thead th {\n",
       "        text-align: right;\n",
       "    }\n",
       "</style>\n",
       "<table border=\"1\" class=\"dataframe\">\n",
       "  <thead>\n",
       "    <tr style=\"text-align: right;\">\n",
       "      <th></th>\n",
       "      <th>20230703</th>\n",
       "      <th>20230704</th>\n",
       "      <th>20230705</th>\n",
       "      <th>20230706</th>\n",
       "      <th>20230707</th>\n",
       "      <th>20230710</th>\n",
       "      <th>20230711</th>\n",
       "      <th>20230712</th>\n",
       "      <th>20230713</th>\n",
       "      <th>20230714</th>\n",
       "    </tr>\n",
       "  </thead>\n",
       "  <tbody>\n",
       "    <tr>\n",
       "      <th>601988.SH</th>\n",
       "      <td>3.92</td>\n",
       "      <td>3.98</td>\n",
       "      <td>3.91</td>\n",
       "      <td>3.90</td>\n",
       "      <td>3.87</td>\n",
       "      <td>3.89</td>\n",
       "      <td>3.89</td>\n",
       "      <td>3.94</td>\n",
       "      <td>3.94</td>\n",
       "      <td>3.99</td>\n",
       "    </tr>\n",
       "    <tr>\n",
       "      <th>300014.SZ</th>\n",
       "      <td>60.52</td>\n",
       "      <td>60.45</td>\n",
       "      <td>59.96</td>\n",
       "      <td>59.55</td>\n",
       "      <td>57.88</td>\n",
       "      <td>57.08</td>\n",
       "      <td>59.11</td>\n",
       "      <td>59.01</td>\n",
       "      <td>59.00</td>\n",
       "      <td>58.00</td>\n",
       "    </tr>\n",
       "  </tbody>\n",
       "</table>\n",
       "</div>"
      ],
      "text/plain": [
       "           20230703  20230704  20230705  20230706  20230707  20230710  \\\n",
       "601988.SH      3.92      3.98      3.91      3.90      3.87      3.89   \n",
       "300014.SZ     60.52     60.45     59.96     59.55     57.88     57.08   \n",
       "\n",
       "           20230711  20230712  20230713  20230714  \n",
       "601988.SH      3.89      3.94      3.94      3.99  \n",
       "300014.SZ     59.11     59.01     59.00     58.00  "
      ]
     },
     "execution_count": 40,
     "metadata": {},
     "output_type": "execute_result"
    }
   ],
   "source": [
    "df = pd.DataFrame(data['open'])\n",
    "df"
   ]
  },
  {
   "cell_type": "code",
   "execution_count": 41,
   "metadata": {},
   "outputs": [
    {
     "name": "stdout",
     "output_type": "stream",
     "text": [
      "           20230703  20230704  20230705  20230706  20230707  20230710  \\\n",
      "601988.SH      3.98      3.92      3.92      3.89      3.88      3.89   \n",
      "300014.SZ     60.45     60.03     59.74     58.19     56.89     59.34   \n",
      "\n",
      "           20230711  20230712  20230713  20230714  \n",
      "601988.SH      3.93      3.93      3.99      4.02  \n",
      "300014.SZ     59.63     58.73     58.39     57.58  \n"
     ]
    }
   ],
   "source": [
    "print(data['close'])"
   ]
  },
  {
   "cell_type": "code",
   "execution_count": 33,
   "metadata": {},
   "outputs": [
    {
     "name": "stdout",
     "output_type": "stream",
     "text": [
      "20230703    3.98\n",
      "20230704    3.92\n",
      "20230705    3.92\n",
      "20230706    3.89\n",
      "20230707    3.88\n",
      "20230710    3.89\n",
      "20230711    3.93\n",
      "20230712    3.93\n",
      "20230713    3.99\n",
      "20230714    4.02\n",
      "Name: 601988.SH, dtype: float64\n"
     ]
    }
   ],
   "source": [
    "print(data['close'].T['601988.SH'])"
   ]
  },
  {
   "cell_type": "code",
   "execution_count": 32,
   "metadata": {},
   "outputs": [
    {
     "data": {
      "text/plain": [
       "'D:\\\\ProgramFile\\\\国金证券QMT交易端\\\\userdata_mini\\\\datadir'"
      ]
     },
     "execution_count": 32,
     "metadata": {},
     "output_type": "execute_result"
    }
   ],
   "source": [
    "xtdata.data_dir"
   ]
  },
  {
   "cell_type": "code",
   "execution_count": null,
   "metadata": {},
   "outputs": [],
   "source": [
    "def on_data(datas):\n",
    "    for stock_code in datas:\n",
    "        \tprint(stock_code, datas[stock_code])"
   ]
  },
  {
   "cell_type": "code",
   "execution_count": null,
   "metadata": {},
   "outputs": [],
   "source": [
    "xtdata.subscribe_quote('601988.SH', period='1m', start_time='', end_time='', count=0, callback=on_data)"
   ]
  }
 ],
 "metadata": {
  "kernelspec": {
   "display_name": "quant39",
   "language": "python",
   "name": "python3"
  },
  "language_info": {
   "codemirror_mode": {
    "name": "ipython",
    "version": 3
   },
   "file_extension": ".py",
   "mimetype": "text/x-python",
   "name": "python",
   "nbconvert_exporter": "python",
   "pygments_lexer": "ipython3",
   "version": "3.9.0"
  },
  "orig_nbformat": 4
 },
 "nbformat": 4,
 "nbformat_minor": 2
}
